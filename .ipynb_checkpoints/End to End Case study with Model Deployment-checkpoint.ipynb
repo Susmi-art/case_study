{
 "cells": [
  {
   "cell_type": "markdown",
   "id": "5d73c6e4",
   "metadata": {},
   "source": [
    "<table align=\"center\" width=100%>\n",
    "    <tr>\n",
    "        <td>\n",
    "            <div align=\"center\">\n",
    "                <font color=\"#21618C\" size=8px>\n",
    "                    <b> End to End Case Study-Classification <br>\n",
    "                    </b>\n",
    "                </font>\n",
    "            </div>\n",
    "        </td>\n",
    "        <td width=\"25%\">\n",
    "            <img src=\"GL-2.png\">\n",
    "        </td>\n",
    "    </tr>\n",
    "</table>"
   ]
  },
  {
   "cell_type": "markdown",
   "id": "249f253e",
   "metadata": {
    "id": "249f253e"
   },
   "source": [
    "## Introduction\n",
    "### The purpose of this tutorial is to give a demonstration of the 10 step method we can use in scikit learn to do any machine learnig task. In particular we are tackling the classification problem where we are predicting a categorical outcome variable.**\n",
    "\n",
    "### Note: Please run this notebook using Python 3.8 in Anaconda Virtual Environment**\n",
    "- You can create a virtual environment typing the following code in anaconda promt\n",
    "> conda create --name venv python=3.8 anaconda\n",
    "- you can activate the virual environment by typing \n",
    "> activate venv\n",
    "### The dataset\n",
    "**We use the famous iris dataset to demonstrate the code for predicting the outcome which is the species of the flower. This dataset in available in the datasets library of scikit learn**\n",
    "\n",
    "\n",
    "### Attribute Information\n",
    "**Attribute Information (in order)**:\n",
    "   - sepal length in cm\n",
    "        - sepal width in cm\n",
    "        - petal length in cm\n",
    "        - petal width in cm\n",
    "        - class:\n",
    "                - Iris-Setosa\n",
    "                - Iris-Versicolour\n",
    "                - Iris-Virginica\n",
    "                \n",
    "### Description of the task\n",
    "The task is to produce a machine learning model to predict the median price of a house ( in 1000's of USD) called 'MEDV' given the rest of the features \n",
    "\n",
    "\n",
    "### The steps of Machine Learning Prediction Task\n",
    "1. Import the required libraries\n",
    "2. Load the dataset and view it\n",
    "3. Do a sanity check on the data \n",
    "4. Do the exploratory data analysis(EDA)\n",
    "5. Preprocess the data and do the feature engineering\n",
    "6. Fit the scikit learn machine learning models on the training data \n",
    "7. Evaluate the model performance of the models on the test data \n",
    "8. Optimize/Regularize the Model using RidgeCV, LassoCV, GridSearchCV\n",
    "9. Interpretation of the Model\n",
    "10. Deploy the experimental model using pycaret and streamlit"
   ]
  },
  {
   "cell_type": "markdown",
   "id": "aa801857",
   "metadata": {
    "id": "aa801857"
   },
   "source": [
    "### Step1: Load the Libraries \n",
    "- In this step we load all the essential libtraries to do our analysis of the datset and fit the linear models\n"
   ]
  },
  {
   "cell_type": "code",
   "execution_count": 10,
   "id": "35679a13",
   "metadata": {
    "colab": {
     "base_uri": "https://localhost:8080/"
    },
    "executionInfo": {
     "elapsed": 577,
     "status": "ok",
     "timestamp": 1650461588357,
     "user": {
      "displayName": "David Pratap",
      "userId": "09405790748084406328"
     },
     "user_tz": -330
    },
    "id": "35679a13",
    "outputId": "52d5d087-a228-4cda-cac6-8ad794fb190b"
   },
   "outputs": [
    {
     "name": "stdout",
     "output_type": "stream",
     "text": [
      " All the libraries are imported\n"
     ]
    }
   ],
   "source": [
    "import pandas as pd  \n",
    "import numpy as np\n",
    "import matplotlib.pyplot as plt\n",
    "import seaborn as sns\n",
    "from sklearn.linear_model import LogisticRegression\n",
    "from sklearn.metrics import accuracy_score, precision_score, recall_score\n",
    "from sklearn.metrics import classification_report\n",
    "from sklearn.model_selection import train_test_split\n",
    "import warnings\n",
    "warnings.filterwarnings(\"ignore\")\n",
    "print(\" All the libraries are imported\")"
   ]
  },
  {
   "cell_type": "markdown",
   "id": "5ca09aef",
   "metadata": {
    "id": "5ca09aef"
   },
   "source": [
    "### Step2: Load the dataset and view it\n",
    "- If it is a .csv or .xlsx file we just use pandas.read_csv or pandas.read_excel"
   ]
  },
  {
   "cell_type": "code",
   "execution_count": 11,
   "id": "88cf857e",
   "metadata": {
    "id": "88cf857e"
   },
   "outputs": [],
   "source": [
    "# from sklearn.datasets import fetch_openml\n",
    "# housing=fetch_openml(name='house_prices', as_frame=True)\n",
    "from sklearn.datasets import load_iris\n",
    "iris=load_iris()"
   ]
  },
  {
   "cell_type": "code",
   "execution_count": 12,
   "id": "94130261",
   "metadata": {
    "colab": {
     "base_uri": "https://localhost:8080/"
    },
    "executionInfo": {
     "elapsed": 3,
     "status": "ok",
     "timestamp": 1650461589707,
     "user": {
      "displayName": "David Pratap",
      "userId": "09405790748084406328"
     },
     "user_tz": -330
    },
    "id": "94130261",
    "outputId": "1aba30af-4897-4d49-ecd9-ec1fb309a648"
   },
   "outputs": [
    {
     "data": {
      "text/plain": [
       "sklearn.utils.Bunch"
      ]
     },
     "execution_count": 12,
     "metadata": {},
     "output_type": "execute_result"
    }
   ],
   "source": [
    "type(iris)"
   ]
  },
  {
   "cell_type": "markdown",
   "id": "55542670",
   "metadata": {
    "id": "55542670"
   },
   "source": [
    "The Boston housing datset is in the form of a data type called Bunch which is like a Dictionary"
   ]
  },
  {
   "cell_type": "code",
   "execution_count": 13,
   "id": "7d627c6a",
   "metadata": {
    "colab": {
     "base_uri": "https://localhost:8080/"
    },
    "executionInfo": {
     "elapsed": 6,
     "status": "ok",
     "timestamp": 1650461591018,
     "user": {
      "displayName": "David Pratap",
      "userId": "09405790748084406328"
     },
     "user_tz": -330
    },
    "id": "7d627c6a",
    "outputId": "a8ecb9ee-25df-4643-f281-bccfe39ed47b"
   },
   "outputs": [
    {
     "data": {
      "text/plain": [
       "dict_keys(['data', 'target', 'frame', 'target_names', 'DESCR', 'feature_names', 'filename'])"
      ]
     },
     "execution_count": 13,
     "metadata": {},
     "output_type": "execute_result"
    }
   ],
   "source": [
    "# Lets get the keys of the bunch\n",
    "iris.keys()"
   ]
  },
  {
   "cell_type": "code",
   "execution_count": 14,
   "id": "6ff340e3",
   "metadata": {
    "colab": {
     "base_uri": "https://localhost:8080/"
    },
    "executionInfo": {
     "elapsed": 5,
     "status": "ok",
     "timestamp": 1650461591019,
     "user": {
      "displayName": "David Pratap",
      "userId": "09405790748084406328"
     },
     "user_tz": -330
    },
    "id": "6ff340e3",
    "outputId": "a8ce9d20-4acd-4fce-fb27-904878c65f63"
   },
   "outputs": [
    {
     "name": "stdout",
     "output_type": "stream",
     "text": [
      ".. _iris_dataset:\n",
      "\n",
      "Iris plants dataset\n",
      "--------------------\n",
      "\n",
      "**Data Set Characteristics:**\n",
      "\n",
      "    :Number of Instances: 150 (50 in each of three classes)\n",
      "    :Number of Attributes: 4 numeric, predictive attributes and the class\n",
      "    :Attribute Information:\n",
      "        - sepal length in cm\n",
      "        - sepal width in cm\n",
      "        - petal length in cm\n",
      "        - petal width in cm\n",
      "        - class:\n",
      "                - Iris-Setosa\n",
      "                - Iris-Versicolour\n",
      "                - Iris-Virginica\n",
      "                \n",
      "    :Summary Statistics:\n",
      "\n",
      "    ============== ==== ==== ======= ===== ====================\n",
      "                    Min  Max   Mean    SD   Class Correlation\n",
      "    ============== ==== ==== ======= ===== ====================\n",
      "    sepal length:   4.3  7.9   5.84   0.83    0.7826\n",
      "    sepal width:    2.0  4.4   3.05   0.43   -0.4194\n",
      "    petal length:   1.0  6.9   3.76   1.76    0.9490  (high!)\n",
      "    petal width:    0.1  2.5   1.20   0.76    0.9565  (high!)\n",
      "    ============== ==== ==== ======= ===== ====================\n",
      "\n",
      "    :Missing Attribute Values: None\n",
      "    :Class Distribution: 33.3% for each of 3 classes.\n",
      "    :Creator: R.A. Fisher\n",
      "    :Donor: Michael Marshall (MARSHALL%PLU@io.arc.nasa.gov)\n",
      "    :Date: July, 1988\n",
      "\n",
      "The famous Iris database, first used by Sir R.A. Fisher. The dataset is taken\n",
      "from Fisher's paper. Note that it's the same as in R, but not as in the UCI\n",
      "Machine Learning Repository, which has two wrong data points.\n",
      "\n",
      "This is perhaps the best known database to be found in the\n",
      "pattern recognition literature.  Fisher's paper is a classic in the field and\n",
      "is referenced frequently to this day.  (See Duda & Hart, for example.)  The\n",
      "data set contains 3 classes of 50 instances each, where each class refers to a\n",
      "type of iris plant.  One class is linearly separable from the other 2; the\n",
      "latter are NOT linearly separable from each other.\n",
      "\n",
      ".. topic:: References\n",
      "\n",
      "   - Fisher, R.A. \"The use of multiple measurements in taxonomic problems\"\n",
      "     Annual Eugenics, 7, Part II, 179-188 (1936); also in \"Contributions to\n",
      "     Mathematical Statistics\" (John Wiley, NY, 1950).\n",
      "   - Duda, R.O., & Hart, P.E. (1973) Pattern Classification and Scene Analysis.\n",
      "     (Q327.D83) John Wiley & Sons.  ISBN 0-471-22361-1.  See page 218.\n",
      "   - Dasarathy, B.V. (1980) \"Nosing Around the Neighborhood: A New System\n",
      "     Structure and Classification Rule for Recognition in Partially Exposed\n",
      "     Environments\".  IEEE Transactions on Pattern Analysis and Machine\n",
      "     Intelligence, Vol. PAMI-2, No. 1, 67-71.\n",
      "   - Gates, G.W. (1972) \"The Reduced Nearest Neighbor Rule\".  IEEE Transactions\n",
      "     on Information Theory, May 1972, 431-433.\n",
      "   - See also: 1988 MLC Proceedings, 54-64.  Cheeseman et al\"s AUTOCLASS II\n",
      "     conceptual clustering system finds 3 classes in the data.\n",
      "   - Many, many more ...\n"
     ]
    }
   ],
   "source": [
    "# Lets access the values of the dDescription key DESCR\n",
    "print(iris.DESCR)"
   ]
  },
  {
   "cell_type": "code",
   "execution_count": 15,
   "id": "e3bb063d",
   "metadata": {
    "id": "e3bb063d"
   },
   "outputs": [],
   "source": [
    "# get the features and target arrays\n",
    "X=iris.data\n",
    "y=iris.target"
   ]
  },
  {
   "cell_type": "code",
   "execution_count": 16,
   "id": "034e68c1",
   "metadata": {
    "colab": {
     "base_uri": "https://localhost:8080/",
     "height": 206
    },
    "executionInfo": {
     "elapsed": 6,
     "status": "ok",
     "timestamp": 1650461591423,
     "user": {
      "displayName": "David Pratap",
      "userId": "09405790748084406328"
     },
     "user_tz": -330
    },
    "id": "034e68c1",
    "outputId": "c5c50da6-fbd2-4476-8fad-7c8e3dcfe7f6"
   },
   "outputs": [
    {
     "data": {
      "text/html": [
       "<div>\n",
       "<style scoped>\n",
       "    .dataframe tbody tr th:only-of-type {\n",
       "        vertical-align: middle;\n",
       "    }\n",
       "\n",
       "    .dataframe tbody tr th {\n",
       "        vertical-align: top;\n",
       "    }\n",
       "\n",
       "    .dataframe thead th {\n",
       "        text-align: right;\n",
       "    }\n",
       "</style>\n",
       "<table border=\"1\" class=\"dataframe\">\n",
       "  <thead>\n",
       "    <tr style=\"text-align: right;\">\n",
       "      <th></th>\n",
       "      <th>sepal length (cm)</th>\n",
       "      <th>sepal width (cm)</th>\n",
       "      <th>petal length (cm)</th>\n",
       "      <th>petal width (cm)</th>\n",
       "      <th>class</th>\n",
       "    </tr>\n",
       "  </thead>\n",
       "  <tbody>\n",
       "    <tr>\n",
       "      <th>0</th>\n",
       "      <td>5.1</td>\n",
       "      <td>3.5</td>\n",
       "      <td>1.4</td>\n",
       "      <td>0.2</td>\n",
       "      <td>0</td>\n",
       "    </tr>\n",
       "    <tr>\n",
       "      <th>1</th>\n",
       "      <td>4.9</td>\n",
       "      <td>3.0</td>\n",
       "      <td>1.4</td>\n",
       "      <td>0.2</td>\n",
       "      <td>0</td>\n",
       "    </tr>\n",
       "    <tr>\n",
       "      <th>2</th>\n",
       "      <td>4.7</td>\n",
       "      <td>3.2</td>\n",
       "      <td>1.3</td>\n",
       "      <td>0.2</td>\n",
       "      <td>0</td>\n",
       "    </tr>\n",
       "    <tr>\n",
       "      <th>3</th>\n",
       "      <td>4.6</td>\n",
       "      <td>3.1</td>\n",
       "      <td>1.5</td>\n",
       "      <td>0.2</td>\n",
       "      <td>0</td>\n",
       "    </tr>\n",
       "    <tr>\n",
       "      <th>4</th>\n",
       "      <td>5.0</td>\n",
       "      <td>3.6</td>\n",
       "      <td>1.4</td>\n",
       "      <td>0.2</td>\n",
       "      <td>0</td>\n",
       "    </tr>\n",
       "  </tbody>\n",
       "</table>\n",
       "</div>"
      ],
      "text/plain": [
       "   sepal length (cm)  sepal width (cm)  petal length (cm)  petal width (cm)  \\\n",
       "0                5.1               3.5                1.4               0.2   \n",
       "1                4.9               3.0                1.4               0.2   \n",
       "2                4.7               3.2                1.3               0.2   \n",
       "3                4.6               3.1                1.5               0.2   \n",
       "4                5.0               3.6                1.4               0.2   \n",
       "\n",
       "   class  \n",
       "0      0  \n",
       "1      0  \n",
       "2      0  \n",
       "3      0  \n",
       "4      0  "
      ]
     },
     "execution_count": 16,
     "metadata": {},
     "output_type": "execute_result"
    }
   ],
   "source": [
    "# convert the Boston bunch data into pandas dataframe\n",
    "df=pd.DataFrame(X, columns=iris.feature_names)\n",
    "df['class']=y\n",
    "df.head()"
   ]
  },
  {
   "cell_type": "code",
   "execution_count": 17,
   "id": "31ab38ee",
   "metadata": {
    "colab": {
     "base_uri": "https://localhost:8080/",
     "height": 206
    },
    "executionInfo": {
     "elapsed": 7,
     "status": "ok",
     "timestamp": 1650461593154,
     "user": {
      "displayName": "David Pratap",
      "userId": "09405790748084406328"
     },
     "user_tz": -330
    },
    "id": "31ab38ee",
    "outputId": "2eabeb76-a80c-4123-e2b0-7d044d18c786"
   },
   "outputs": [
    {
     "data": {
      "text/html": [
       "<div>\n",
       "<style scoped>\n",
       "    .dataframe tbody tr th:only-of-type {\n",
       "        vertical-align: middle;\n",
       "    }\n",
       "\n",
       "    .dataframe tbody tr th {\n",
       "        vertical-align: top;\n",
       "    }\n",
       "\n",
       "    .dataframe thead th {\n",
       "        text-align: right;\n",
       "    }\n",
       "</style>\n",
       "<table border=\"1\" class=\"dataframe\">\n",
       "  <thead>\n",
       "    <tr style=\"text-align: right;\">\n",
       "      <th></th>\n",
       "      <th>sepal length (cm)</th>\n",
       "      <th>sepal width (cm)</th>\n",
       "      <th>petal length (cm)</th>\n",
       "      <th>petal width (cm)</th>\n",
       "      <th>class</th>\n",
       "    </tr>\n",
       "  </thead>\n",
       "  <tbody>\n",
       "    <tr>\n",
       "      <th>0</th>\n",
       "      <td>5.1</td>\n",
       "      <td>3.5</td>\n",
       "      <td>1.4</td>\n",
       "      <td>0.2</td>\n",
       "      <td>setosa</td>\n",
       "    </tr>\n",
       "    <tr>\n",
       "      <th>1</th>\n",
       "      <td>4.9</td>\n",
       "      <td>3.0</td>\n",
       "      <td>1.4</td>\n",
       "      <td>0.2</td>\n",
       "      <td>setosa</td>\n",
       "    </tr>\n",
       "    <tr>\n",
       "      <th>2</th>\n",
       "      <td>4.7</td>\n",
       "      <td>3.2</td>\n",
       "      <td>1.3</td>\n",
       "      <td>0.2</td>\n",
       "      <td>setosa</td>\n",
       "    </tr>\n",
       "    <tr>\n",
       "      <th>3</th>\n",
       "      <td>4.6</td>\n",
       "      <td>3.1</td>\n",
       "      <td>1.5</td>\n",
       "      <td>0.2</td>\n",
       "      <td>setosa</td>\n",
       "    </tr>\n",
       "    <tr>\n",
       "      <th>4</th>\n",
       "      <td>5.0</td>\n",
       "      <td>3.6</td>\n",
       "      <td>1.4</td>\n",
       "      <td>0.2</td>\n",
       "      <td>setosa</td>\n",
       "    </tr>\n",
       "  </tbody>\n",
       "</table>\n",
       "</div>"
      ],
      "text/plain": [
       "   sepal length (cm)  sepal width (cm)  petal length (cm)  petal width (cm)  \\\n",
       "0                5.1               3.5                1.4               0.2   \n",
       "1                4.9               3.0                1.4               0.2   \n",
       "2                4.7               3.2                1.3               0.2   \n",
       "3                4.6               3.1                1.5               0.2   \n",
       "4                5.0               3.6                1.4               0.2   \n",
       "\n",
       "    class  \n",
       "0  setosa  \n",
       "1  setosa  \n",
       "2  setosa  \n",
       "3  setosa  \n",
       "4  setosa  "
      ]
     },
     "execution_count": 17,
     "metadata": {},
     "output_type": "execute_result"
    }
   ],
   "source": [
    "# Lets encode the outcome variable to identofy the classes\n",
    "d={0:'setosa', 1:'versicolor', 2:'virginica'}\n",
    "df['class']=df['class'].map(d)\n",
    "df.head()"
   ]
  },
  {
   "cell_type": "markdown",
   "id": "06732915",
   "metadata": {
    "id": "06732915"
   },
   "source": [
    "### Step3: Do a sanity check on data\n",
    "This includes looking at the:\n",
    "- shape of the dataset\n",
    "- datatypes of variables-- to look for any consistencies regarding datatypes\n",
    "- descriptives of numerical variables\n",
    "         - to identify any data engineering error, eg where missing values in numerical variables are replaced by 0\n",
    "- To look for any non interpreatble symbols like $ sign in front of prices \n",
    "- Do a value counts for all categorical variables\n",
    "- To Look for inconsistencies among classes of categorical variables ( example if type of is wriiten as 'county' vs.   type 'COUNTY' vs 'County'"
   ]
  },
  {
   "cell_type": "code",
   "execution_count": 18,
   "id": "6abe46bf",
   "metadata": {
    "id": "6abe46bf",
    "outputId": "c6c06a74-8b15-40fe-bac4-eb888f45d43d"
   },
   "outputs": [
    {
     "name": "stdout",
     "output_type": "stream",
     "text": [
      "(150, 5)\n",
      "\n",
      "The number of rows is  150\n",
      "\n",
      "The number of columns is  5\n"
     ]
    }
   ],
   "source": [
    "# get the shape of the dataset\n",
    "print(df.shape)\n",
    "print('')\n",
    "print(\"The number of rows is \", df.shape[0])\n",
    "print('')\n",
    "print(\"The number of columns is \", df.shape[1])"
   ]
  },
  {
   "cell_type": "code",
   "execution_count": 19,
   "id": "dbca4f67",
   "metadata": {
    "id": "dbca4f67",
    "outputId": "3d270ba0-c6ca-4a9d-fd20-989038182c84"
   },
   "outputs": [
    {
     "data": {
      "text/plain": [
       "sepal length (cm)    float64\n",
       "sepal width (cm)     float64\n",
       "petal length (cm)    float64\n",
       "petal width (cm)     float64\n",
       "class                 object\n",
       "dtype: object"
      ]
     },
     "execution_count": 19,
     "metadata": {},
     "output_type": "execute_result"
    }
   ],
   "source": [
    "# get the data types of the data  \n",
    "df.dtypes\n",
    "\n",
    "# we call also use df.info()"
   ]
  },
  {
   "cell_type": "markdown",
   "id": "4ea7f03c",
   "metadata": {
    "id": "4ea7f03c"
   },
   "source": [
    "We see that all variables are numerical having correct datatypes which looks good for this dataset"
   ]
  },
  {
   "cell_type": "code",
   "execution_count": 20,
   "id": "b1ecf68f",
   "metadata": {
    "id": "b1ecf68f",
    "outputId": "8058018a-630c-4e4a-be12-d6d386db3800"
   },
   "outputs": [
    {
     "data": {
      "text/plain": [
       "sepal length (cm)    0\n",
       "sepal width (cm)     0\n",
       "petal length (cm)    0\n",
       "petal width (cm)     0\n",
       "class                0\n",
       "dtype: int64"
      ]
     },
     "execution_count": 20,
     "metadata": {},
     "output_type": "execute_result"
    }
   ],
   "source": [
    "# Identify the columns having null values\n",
    "df.isnull().sum()"
   ]
  },
  {
   "cell_type": "markdown",
   "id": "2a09831d",
   "metadata": {
    "id": "2a09831d"
   },
   "source": [
    "There are no null values in this datsset"
   ]
  },
  {
   "cell_type": "code",
   "execution_count": 21,
   "id": "aefe2142",
   "metadata": {
    "id": "aefe2142",
    "outputId": "a9dc533b-9e4f-45f5-900f-bf21e7ebe1aa"
   },
   "outputs": [
    {
     "data": {
      "text/html": [
       "<div>\n",
       "<style scoped>\n",
       "    .dataframe tbody tr th:only-of-type {\n",
       "        vertical-align: middle;\n",
       "    }\n",
       "\n",
       "    .dataframe tbody tr th {\n",
       "        vertical-align: top;\n",
       "    }\n",
       "\n",
       "    .dataframe thead th {\n",
       "        text-align: right;\n",
       "    }\n",
       "</style>\n",
       "<table border=\"1\" class=\"dataframe\">\n",
       "  <thead>\n",
       "    <tr style=\"text-align: right;\">\n",
       "      <th></th>\n",
       "      <th>count</th>\n",
       "      <th>mean</th>\n",
       "      <th>std</th>\n",
       "      <th>min</th>\n",
       "      <th>25%</th>\n",
       "      <th>50%</th>\n",
       "      <th>75%</th>\n",
       "      <th>max</th>\n",
       "    </tr>\n",
       "  </thead>\n",
       "  <tbody>\n",
       "    <tr>\n",
       "      <th>sepal length (cm)</th>\n",
       "      <td>150.0</td>\n",
       "      <td>5.843333</td>\n",
       "      <td>0.828066</td>\n",
       "      <td>4.3</td>\n",
       "      <td>5.1</td>\n",
       "      <td>5.80</td>\n",
       "      <td>6.4</td>\n",
       "      <td>7.9</td>\n",
       "    </tr>\n",
       "    <tr>\n",
       "      <th>sepal width (cm)</th>\n",
       "      <td>150.0</td>\n",
       "      <td>3.057333</td>\n",
       "      <td>0.435866</td>\n",
       "      <td>2.0</td>\n",
       "      <td>2.8</td>\n",
       "      <td>3.00</td>\n",
       "      <td>3.3</td>\n",
       "      <td>4.4</td>\n",
       "    </tr>\n",
       "    <tr>\n",
       "      <th>petal length (cm)</th>\n",
       "      <td>150.0</td>\n",
       "      <td>3.758000</td>\n",
       "      <td>1.765298</td>\n",
       "      <td>1.0</td>\n",
       "      <td>1.6</td>\n",
       "      <td>4.35</td>\n",
       "      <td>5.1</td>\n",
       "      <td>6.9</td>\n",
       "    </tr>\n",
       "    <tr>\n",
       "      <th>petal width (cm)</th>\n",
       "      <td>150.0</td>\n",
       "      <td>1.199333</td>\n",
       "      <td>0.762238</td>\n",
       "      <td>0.1</td>\n",
       "      <td>0.3</td>\n",
       "      <td>1.30</td>\n",
       "      <td>1.8</td>\n",
       "      <td>2.5</td>\n",
       "    </tr>\n",
       "  </tbody>\n",
       "</table>\n",
       "</div>"
      ],
      "text/plain": [
       "                   count      mean       std  min  25%   50%  75%  max\n",
       "sepal length (cm)  150.0  5.843333  0.828066  4.3  5.1  5.80  6.4  7.9\n",
       "sepal width (cm)   150.0  3.057333  0.435866  2.0  2.8  3.00  3.3  4.4\n",
       "petal length (cm)  150.0  3.758000  1.765298  1.0  1.6  4.35  5.1  6.9\n",
       "petal width (cm)   150.0  1.199333  0.762238  0.1  0.3  1.30  1.8  2.5"
      ]
     },
     "execution_count": 21,
     "metadata": {},
     "output_type": "execute_result"
    }
   ],
   "source": [
    "# get the numerical descriptives \n",
    "# .T gives the transpose to mmake the descriptives more readable\n",
    "df.describe().T"
   ]
  },
  {
   "cell_type": "markdown",
   "id": "b0bb00b7",
   "metadata": {
    "id": "b0bb00b7"
   },
   "source": [
    "Except class variable none of the columns have minimum value 0 , which also looks good "
   ]
  },
  {
   "cell_type": "markdown",
   "id": "aa111ca8",
   "metadata": {
    "id": "aa111ca8"
   },
   "source": [
    "### Step4: Do an EDA of the data\n",
    "- This is a very extensive process and will differ from datset to datset\n",
    "- We normally do the EDA in the following manner: Univariates Analysis, Bivariate Analysis, Multivariate Analysis, Outlier Analysis, Missing Value Treatment\n",
    "- In univariate analysis we look at the shape and spread of the distrbutions of numerical datas and the class imbalances of categorical data\n",
    "- In bivariate analysis we look at scatter plots, bivaraite boxplots, clustered bar charts and bivariate tables to look for relationships\n",
    "- The aim of EDA is to get patterns and trends from the datset"
   ]
  },
  {
   "cell_type": "markdown",
   "id": "31530062",
   "metadata": {
    "id": "31530062"
   },
   "source": [
    "**Univariate ANalysis**"
   ]
  },
  {
   "cell_type": "code",
   "execution_count": 22,
   "id": "301fea03",
   "metadata": {
    "id": "301fea03",
    "outputId": "53df82f8-b13c-49fe-df4a-dd34dcd86b1b"
   },
   "outputs": [
    {
     "data": {
      "image/png": "[encoded data removed]",
      "text/plain": [
       "<Figure size 640x480 with 4 Axes>"
      ]
     },
     "metadata": {},
     "output_type": "display_data"
    }
   ],
   "source": [
    "# lets get the univariate graphs of numerical variables\n",
    "df.hist()\n",
    "plt.tight_layout()"
   ]
  },
  {
   "cell_type": "markdown",
   "id": "1cee18c8",
   "metadata": {
    "id": "1cee18c8"
   },
   "source": [
    "Sepal Width has approximately normal distribution whereas other variables need some transformation, but we are going to ignore that in this demo"
   ]
  },
  {
   "cell_type": "code",
   "execution_count": 23,
   "id": "2bf0ae27",
   "metadata": {
    "id": "2bf0ae27",
    "outputId": "ff131e0d-60a0-4bc1-ff15-f93eb27028a1"
   },
   "outputs": [
    {
     "name": "stdout",
     "output_type": "stream",
     "text": [
      "sepal length (cm)\n"
     ]
    },
    {
     "data": {
      "image/png": "[encoded data removed]",
      "text/plain": [
       "<Figure size 640x480 with 1 Axes>"
      ]
     },
     "metadata": {},
     "output_type": "display_data"
    },
    {
     "name": "stdout",
     "output_type": "stream",
     "text": [
      "****************************************************\n",
      "sepal width (cm)\n"
     ]
    },
    {
     "data": {
      "image/png": "[encoded data removed]",
      "text/plain": [
       "<Figure size 640x480 with 1 Axes>"
      ]
     },
     "metadata": {},
     "output_type": "display_data"
    },
    {
     "name": "stdout",
     "output_type": "stream",
     "text": [
      "****************************************************\n",
      "petal length (cm)\n"
     ]
    },
    {
     "data": {
      "image/png": "[encoded data removed]",
      "text/plain": [
       "<Figure size 640x480 with 1 Axes>"
      ]
     },
     "metadata": {},
     "output_type": "display_data"
    },
    {
     "name": "stdout",
     "output_type": "stream",
     "text": [
      "****************************************************\n",
      "petal width (cm)\n"
     ]
    },
    {
     "data": {
      "image/png": "[encoded data removed]",
      "text/plain": [
       "<Figure size 640x480 with 1 Axes>"
      ]
     },
     "metadata": {},
     "output_type": "display_data"
    },
    {
     "name": "stdout",
     "output_type": "stream",
     "text": [
      "****************************************************\n"
     ]
    }
   ],
   "source": [
    "# look at the individual distribution plots\n",
    "for col in df.select_dtypes(exclude='O').columns:\n",
    "    print(col)\n",
    "    sns.distplot(df[col], kde=True)\n",
    "    plt.show()\n",
    "    print(\"****************************************************\")"
   ]
  },
  {
   "cell_type": "markdown",
   "id": "c9eb0473",
   "metadata": {
    "id": "c9eb0473"
   },
   "source": [
    "The outcome variable MEDV is approximately normally distributed "
   ]
  },
  {
   "cell_type": "code",
   "execution_count": 24,
   "id": "ca65b656",
   "metadata": {
    "id": "ca65b656",
    "outputId": "1aa8d5f2-7556-4d90-ed6e-f4f7ff557cdd"
   },
   "outputs": [
    {
     "data": {
      "text/plain": [
       "<AxesSubplot:>"
      ]
     },
     "execution_count": 24,
     "metadata": {},
     "output_type": "execute_result"
    },
    {
     "data": {
      "image/png": "[encoded data removed]",
      "text/plain": [
       "<Figure size 1500x1000 with 2 Axes>"
      ]
     },
     "metadata": {},
     "output_type": "display_data"
    }
   ],
   "source": [
    "#Create a correlation heatmap\n",
    "plt.figure(figsize=(15,10))\n",
    "sns.heatmap(df.corr(), annot=True, cmap='viridis')"
   ]
  },
  {
   "cell_type": "markdown",
   "id": "6d194d45",
   "metadata": {
    "id": "6d194d45"
   },
   "source": [
    "- We notice a lot of multicollinearity between variables but in this demo we are going to ignore that"
   ]
  },
  {
   "cell_type": "code",
   "execution_count": 25,
   "id": "ed889d7f",
   "metadata": {
    "id": "ed889d7f",
    "outputId": "4a4f2444-ad1d-4e4b-b88d-663530a5bf18"
   },
   "outputs": [
    {
     "data": {
      "text/plain": [
       "<seaborn.axisgrid.PairGrid at 0x246cebb2e80>"
      ]
     },
     "execution_count": 25,
     "metadata": {},
     "output_type": "execute_result"
    },
    {
     "data": {
      "image/png": "[encoded data removed]",
      "text/plain": [
       "<Figure size 1000x1000 with 20 Axes>"
      ]
     },
     "metadata": {},
     "output_type": "display_data"
    }
   ],
   "source": [
    "# we make a pairplot to get the bivariate relationships\n",
    "sns.pairplot(df)"
   ]
  },
  {
   "cell_type": "markdown",
   "id": "686f2e86",
   "metadata": {
    "id": "686f2e86"
   },
   "source": [
    "- We notice almost perfect clustering into 3 seperate classes with respect to Petal Length and Petal Width but we will stick to classification for thos demo"
   ]
  },
  {
   "cell_type": "markdown",
   "id": "a3ca5e79",
   "metadata": {
    "id": "a3ca5e79"
   },
   "source": [
    "### Step5: Do the feature pre-processing for Classification\n",
    "- This step inlcudes things like:\n",
    "1. Sepearate the features and label\n",
    "2. Impute the missing values\n",
    "3. Do the label encoding/one-hot encoding for categorical features\n",
    "4. Do the train test split\n",
    "5. Do the feature scaling"
   ]
  },
  {
   "cell_type": "code",
   "execution_count": 26,
   "id": "1945004e",
   "metadata": {
    "id": "1945004e"
   },
   "outputs": [],
   "source": [
    "# Seperate the features and the target\n",
    "# Here we are using all features and MEDV as target\n",
    "X=df.drop('class', axis=1)\n",
    "y=df['class']"
   ]
  },
  {
   "cell_type": "markdown",
   "id": "ad960862",
   "metadata": {
    "id": "ad960862"
   },
   "source": [
    "Since there are no missing values or categorical variable we got tjhe next step whcih is train-test-split"
   ]
  },
  {
   "cell_type": "code",
   "execution_count": 27,
   "id": "b94ecb49",
   "metadata": {
    "id": "b94ecb49",
    "outputId": "e4ec5339-ad55-4812-dabc-9ef67cd2b88f"
   },
   "outputs": [
    {
     "name": "stdout",
     "output_type": "stream",
     "text": [
      "(105, 4) (105,) (45, 4) (45,)\n"
     ]
    }
   ],
   "source": [
    "# Do the train test split\n",
    "from sklearn.model_selection import train_test_split\n",
    "x_train, x_test, y_train, y_test=train_test_split(X, y, test_size=0.3 ,random_state=401)\n",
    "print(x_train.shape, y_train.shape, x_test.shape, y_test.shape)"
   ]
  },
  {
   "cell_type": "code",
   "execution_count": 28,
   "id": "5d45ff0f",
   "metadata": {
    "id": "5d45ff0f"
   },
   "outputs": [],
   "source": [
    "# Feature scaling is additional for regression since scikit learn performs feature scaling under the hood, you can test this \n",
    "#by seeing that scaling has no imporvement in the overall performance of regression\n",
    "from sklearn.preprocessing import StandardScaler\n",
    "sc=StandardScaler()\n",
    "x_train=sc.fit_transform(x_train)\n",
    "x_test=sc.transform(x_test)"
   ]
  },
  {
   "cell_type": "markdown",
   "id": "aa993191",
   "metadata": {
    "id": "aa993191"
   },
   "source": [
    "### Step6: Fit the classification models on training set\n",
    "- Scikit learn performs classification using many algorithms like decision trees, random forest , KNN, Naive Bayes etc but  needs the data to be as a numpy array or a pandas dataframe\n",
    "- We can optimize the algorithm chosen using GridSearchCV "
   ]
  },
  {
   "cell_type": "markdown",
   "id": "4b5c4d04",
   "metadata": {
    "id": "4b5c4d04"
   },
   "source": [
    "**Classification model**"
   ]
  },
  {
   "cell_type": "code",
   "execution_count": 29,
   "id": "acf9ba0e",
   "metadata": {
    "id": "acf9ba0e"
   },
   "outputs": [],
   "source": [
    "# instantiate the scikit learn model\n",
    "model_cls=LogisticRegression()\n",
    "\n",
    "# fit the model to the training set \n",
    "model_cls.fit(x_train, y_train)\n",
    "\n",
    "# making prediction on the testing set\n",
    "y_pred=model_cls.predict(x_test)"
   ]
  },
  {
   "cell_type": "markdown",
   "id": "9b038cb0",
   "metadata": {
    "id": "9b038cb0"
   },
   "source": [
    "### Step7: Evaluate the model performance on the Test set "
   ]
  },
  {
   "cell_type": "code",
   "execution_count": 30,
   "id": "9888a02d",
   "metadata": {
    "id": "9888a02d"
   },
   "outputs": [],
   "source": [
    "# let us create a function for evaluation\n",
    "def evaluate(y_test, y_pred, model_name):\n",
    "    print(\"The model metrics below are for the model \"+model_name)\n",
    "    print('')\n",
    "    print(\"The accuracy score is \", accuracy_score(y_test, y_pred))\n",
    "    print(\"\")\n",
    "    print(\"The recall score is \", recall_score(y_test, y_pred, average=\"weighted\"))\n",
    "    print(\"\")\n",
    "    print(\"The precision score is \", precision_score(y_test, y_pred, average=\"weighted\"))\n",
    "    print(\"\")"
   ]
  },
  {
   "cell_type": "code",
   "execution_count": 31,
   "id": "c826deba",
   "metadata": {
    "id": "c826deba",
    "outputId": "513257e1-ac9e-43e7-875b-1ed1ae6b019b"
   },
   "outputs": [
    {
     "name": "stdout",
     "output_type": "stream",
     "text": [
      "The model metrics below are for the model Random Forest Classifier\n",
      "\n",
      "The accuracy score is  0.9777777777777777\n",
      "\n",
      "The recall score is  0.9777777777777777\n",
      "\n",
      "The precision score is  0.9792592592592592\n",
      "\n"
     ]
    }
   ],
   "source": [
    "# Evaluate the metrics for the OLS model\n",
    "evaluate(y_test, y_pred, \"Random Forest Classifier\")"
   ]
  },
  {
   "cell_type": "markdown",
   "id": "75ca9be4",
   "metadata": {
    "id": "75ca9be4"
   },
   "source": [
    "The current Random Forest model performs at a precision score of 97.9 % and recall of 97.7% which is excellent"
   ]
  },
  {
   "cell_type": "markdown",
   "id": "a2750074",
   "metadata": {
    "id": "a2750074"
   },
   "source": [
    "**Trying other Classification Models**"
   ]
  },
  {
   "cell_type": "code",
   "execution_count": 32,
   "id": "5fb264a1",
   "metadata": {
    "id": "5fb264a1",
    "outputId": "a8186493-7253-45bf-ac45-eefd8575a852"
   },
   "outputs": [
    {
     "name": "stdout",
     "output_type": "stream",
     "text": [
      "The model metrics below are for the model Decision Tree Classifier\n",
      "\n",
      "The accuracy score is  0.9555555555555556\n",
      "\n",
      "The recall score is  0.9555555555555556\n",
      "\n",
      "The precision score is  0.9611111111111111\n",
      "\n"
     ]
    }
   ],
   "source": [
    "# We first use Decision Tree  which is an entropy based model\n",
    "from sklearn.tree import DecisionTreeClassifier\n",
    "model_dt=DecisionTreeClassifier()\n",
    "model_dt.fit(x_train, y_train)\n",
    "y_pred=model_dt.predict(x_test)\n",
    "evaluate(y_test, y_pred, 'Decision Tree Classifier')\n"
   ]
  },
  {
   "cell_type": "code",
   "execution_count": 33,
   "id": "93a6030f",
   "metadata": {
    "id": "93a6030f",
    "outputId": "73091aca-c82a-4740-befb-54ede334c35e"
   },
   "outputs": [
    {
     "name": "stdout",
     "output_type": "stream",
     "text": [
      "The model metrics below are for the model Random Forest Classifier\n",
      "\n",
      "The accuracy score is  0.9777777777777777\n",
      "\n",
      "The recall score is  0.9777777777777777\n",
      "\n",
      "The precision score is  0.9792592592592592\n",
      "\n"
     ]
    }
   ],
   "source": [
    "# next we make a Random Forest Regressor\n",
    "from sklearn.ensemble import RandomForestClassifier\n",
    "model_rf=RandomForestClassifier()\n",
    "model_rf.fit(x_train, y_train)\n",
    "y_pred=model_rf.predict(x_test)\n",
    "evaluate(y_test, y_pred, 'Random Forest Classifier')"
   ]
  },
  {
   "cell_type": "code",
   "execution_count": 34,
   "id": "1f29824f",
   "metadata": {
    "id": "1f29824f",
    "outputId": "c6e4bb7c-ee6d-4a32-fd86-74b15dc8f981"
   },
   "outputs": [
    {
     "name": "stdout",
     "output_type": "stream",
     "text": [
      "The model metrics below are for the model Support Vector Classifier\n",
      "\n",
      "The accuracy score is  0.9777777777777777\n",
      "\n",
      "The recall score is  0.9777777777777777\n",
      "\n",
      "The precision score is  0.9792592592592592\n",
      "\n"
     ]
    }
   ],
   "source": [
    "from sklearn.svm import SVC\n",
    "model_svr=SVC()\n",
    "model_svr.fit(x_train, y_train)\n",
    "y_pred=model_svr.predict(x_test)\n",
    "evaluate(y_test, y_pred, 'Support Vector Classifier')"
   ]
  },
  {
   "cell_type": "code",
   "execution_count": 35,
   "id": "63739aa7",
   "metadata": {
    "id": "63739aa7",
    "outputId": "d5a36b37-9dcb-4238-f677-83b000f161aa"
   },
   "outputs": [
    {
     "name": "stdout",
     "output_type": "stream",
     "text": [
      "The model metrics below are for the model K Nearest Neighbors\n",
      "\n",
      "The accuracy score is  0.9777777777777777\n",
      "\n",
      "The recall score is  0.9777777777777777\n",
      "\n",
      "The precision score is  0.9792592592592592\n",
      "\n"
     ]
    }
   ],
   "source": [
    "from sklearn.neighbors import KNeighborsClassifier\n",
    "model_knn=KNeighborsClassifier()\n",
    "model_knn.fit(x_train, y_train)\n",
    "y_pred=model_knn.predict(x_test)\n",
    "evaluate(y_test, y_pred, 'K Nearest Neighbors')"
   ]
  },
  {
   "cell_type": "markdown",
   "id": "7cb99854",
   "metadata": {
    "id": "7cb99854"
   },
   "source": [
    "**We see that all model performs excellently oin this dateset with recall score of 0.978 and precision score of 0.979. Let us optimize the Random Forest Model using  GridSearchCV before deployment**"
   ]
  },
  {
   "cell_type": "markdown",
   "id": "2a29cbd2",
   "metadata": {
    "id": "2a29cbd2"
   },
   "source": [
    "### Step8: Optimization\n",
    "- Optimization is the process of applying GridSearchCv to find optimum hyperparameters for a chosel model so as to enhance the prerformance ( increasing precision/recall) and in reducing overfitting"
   ]
  },
  {
   "cell_type": "markdown",
   "id": "d3d9b66c",
   "metadata": {
    "id": "d3d9b66c"
   },
   "source": [
    "**Grid Search CV**"
   ]
  },
  {
   "cell_type": "code",
   "execution_count": 36,
   "id": "3e039965",
   "metadata": {
    "id": "3e039965",
    "outputId": "b4bfd26b-f99c-4fbc-8211-99bd774c804c"
   },
   "outputs": [
    {
     "name": "stdout",
     "output_type": "stream",
     "text": [
      "Fitting 10 folds for each of 160 candidates, totalling 1600 fits\n"
     ]
    },
    {
     "name": "stderr",
     "output_type": "stream",
     "text": [
      "[Parallel(n_jobs=-1)]: Using backend LokyBackend with 4 concurrent workers.\n",
      "[Parallel(n_jobs=-1)]: Done  24 tasks      | elapsed:   11.0s\n",
      "[Parallel(n_jobs=-1)]: Done 120 tasks      | elapsed:   52.0s\n",
      "[Parallel(n_jobs=-1)]: Done 280 tasks      | elapsed:  2.0min\n",
      "[Parallel(n_jobs=-1)]: Done 504 tasks      | elapsed:  3.6min\n",
      "[Parallel(n_jobs=-1)]: Done 792 tasks      | elapsed:  5.6min\n",
      "[Parallel(n_jobs=-1)]: Done 1144 tasks      | elapsed:  8.1min\n",
      "[Parallel(n_jobs=-1)]: Done 1560 tasks      | elapsed: 10.9min\n",
      "[Parallel(n_jobs=-1)]: Done 1600 out of 1600 | elapsed: 11.2min finished\n"
     ]
    },
    {
     "name": "stdout",
     "output_type": "stream",
     "text": [
      "Best params are : RandomForestClassifier(max_depth=1, max_features='sqrt', min_samples_split=9,\n",
      "                       n_estimators=400)\n",
      "\n",
      "Best score is : 0.9627272727272727\n"
     ]
    }
   ],
   "source": [
    "from sklearn.model_selection import GridSearchCV\n",
    "from sklearn.ensemble import RandomForestClassifier\n",
    "# set the parameter grid\n",
    "n_folds=10\n",
    "param_grid={'n_estimators':[100, 200, 300, 400, 500], 'criterion' : ['entropy','gini'], 'max_depth':[1,10], \n",
    "            'min_samples_leaf':[1,5], 'min_samples_split':[3,9], 'max_features':['sqrt', 'log2'] }\n",
    "\n",
    "grid=GridSearchCV(estimator=model_rf, param_grid=param_grid,n_jobs=-1, cv=n_folds,verbose=3,  return_train_score=False )\n",
    "\n",
    "grid.fit(x_train, y_train)\n",
    "\n",
    "print(\"Best params are :\", grid.best_estimator_)\n",
    "print(\"\")\n",
    "print(\"Best score is :\", grid.best_score_)\n"
   ]
  },
  {
   "cell_type": "code",
   "execution_count": 37,
   "id": "2436c956",
   "metadata": {
    "id": "2436c956",
    "outputId": "e07e6a29-4837-4597-db86-17028d6a9d1b"
   },
   "outputs": [
    {
     "name": "stdout",
     "output_type": "stream",
     "text": [
      "The model metrics below are for the model Tuned Random Forest\n",
      "\n",
      "The accuracy score is  0.9777777777777777\n",
      "\n",
      "The recall score is  0.9777777777777777\n",
      "\n",
      "The precision score is  0.9792592592592592\n",
      "\n"
     ]
    }
   ],
   "source": [
    "tuned_model_rf=grid.best_estimator_\n",
    "tuned_model_rf.fit(x_train, y_train)\n",
    "y_pred=tuned_model_rf.predict(x_test)\n",
    "evaluate(y_test, y_pred, 'Tuned Random Forest')"
   ]
  },
  {
   "cell_type": "markdown",
   "id": "0f709895",
   "metadata": {
    "id": "0f709895"
   },
   "source": [
    "We see the tuned model performing better on the test data than the untuned model"
   ]
  },
  {
   "cell_type": "markdown",
   "id": "ea7a2d54",
   "metadata": {
    "id": "ea7a2d54"
   },
   "source": [
    "### Step9: Interpretation of the model"
   ]
  },
  {
   "cell_type": "markdown",
   "id": "a85e5713",
   "metadata": {},
   "source": [
    "**SHAP**,which stands for “SHapley Additive exPlanations\", is one of the most effective model interpretation technique. It not only allows Global interpretations like  **feature importances** but also local interpretattions like what is the **contribution of each feature** for each individual prediction.SHAP achieves this by calculating what is known as **SHAP values**. SHAP can used to expain a wide variety of models like linear models, tree based models and neural networks. You can learn more about SHAP here https://shap.readthedocs.io/en/latest/index.html"
   ]
  },
  {
   "cell_type": "code",
   "execution_count": 40,
   "id": "c0c4863b",
   "metadata": {
    "id": "c0c4863b",
    "outputId": "f7a0edae-8e1a-42b4-d710-b7e7ea890c30"
   },
   "outputs": [
    {
     "name": "stdout",
     "output_type": "stream",
     "text": [
      "Requirement already satisfied: shap in c:\\users\\davidpratap\\anaconda3\\envs\\rt1\\lib\\site-packages (0.41.0)\n",
      "Requirement already satisfied: pandas in c:\\users\\davidpratap\\anaconda3\\envs\\rt1\\lib\\site-packages (from shap) (1.4.4)\n",
      "Requirement already satisfied: scikit-learn in c:\\users\\davidpratap\\appdata\\roaming\\python\\python38\\site-packages (from shap) (0.23.2)\n",
      "Requirement already satisfied: scipy in c:\\users\\davidpratap\\appdata\\roaming\\python\\python38\\site-packages (from shap) (1.5.4)\n",
      "Requirement already satisfied: numba in c:\\users\\davidpratap\\appdata\\roaming\\python\\python38\\site-packages (from shap) (0.54.1)\n",
      "Requirement already satisfied: tqdm>4.25.0 in c:\\users\\davidpratap\\anaconda3\\envs\\rt1\\lib\\site-packages (from shap) (4.64.1)\n",
      "Requirement already satisfied: numpy in c:\\users\\davidpratap\\appdata\\roaming\\python\\python38\\site-packages (from shap) (1.19.5)\n",
      "Requirement already satisfied: packaging>20.9 in c:\\users\\davidpratap\\anaconda3\\envs\\rt1\\lib\\site-packages (from shap) (21.3)\n",
      "Requirement already satisfied: slicer==0.0.7 in c:\\users\\davidpratap\\anaconda3\\envs\\rt1\\lib\\site-packages (from shap) (0.0.7)\n",
      "Requirement already satisfied: cloudpickle in c:\\users\\davidpratap\\anaconda3\\envs\\rt1\\lib\\site-packages (from shap) (2.0.0)\n",
      "Requirement already satisfied: pyparsing!=3.0.5,>=2.0.2 in c:\\users\\davidpratap\\anaconda3\\envs\\rt1\\lib\\site-packages (from packaging>20.9->shap) (3.0.9)\n",
      "Requirement already satisfied: colorama in c:\\users\\davidpratap\\anaconda3\\envs\\rt1\\lib\\site-packages (from tqdm>4.25.0->shap) (0.4.5)\n",
      "Requirement already satisfied: setuptools in c:\\users\\davidpratap\\anaconda3\\envs\\rt1\\lib\\site-packages (from numba->shap) (65.5.0)\n",
      "Requirement already satisfied: llvmlite<0.38,>=0.37.0rc1 in c:\\users\\davidpratap\\appdata\\roaming\\python\\python38\\site-packages (from numba->shap) (0.37.0)\n",
      "Requirement already satisfied: python-dateutil>=2.8.1 in c:\\users\\davidpratap\\anaconda3\\envs\\rt1\\lib\\site-packages (from pandas->shap) (2.8.2)\n",
      "Requirement already satisfied: pytz>=2020.1 in c:\\users\\davidpratap\\anaconda3\\envs\\rt1\\lib\\site-packages (from pandas->shap) (2022.1)\n",
      "Requirement already satisfied: joblib>=0.11 in c:\\users\\davidpratap\\anaconda3\\envs\\rt1\\lib\\site-packages (from scikit-learn->shap) (1.1.1)\n",
      "Requirement already satisfied: threadpoolctl>=2.0.0 in c:\\users\\davidpratap\\anaconda3\\envs\\rt1\\lib\\site-packages (from scikit-learn->shap) (2.2.0)\n",
      "Requirement already satisfied: six>=1.5 in c:\\users\\davidpratap\\anaconda3\\envs\\rt1\\lib\\site-packages (from python-dateutil>=2.8.1->pandas->shap) (1.16.0)\n"
     ]
    }
   ],
   "source": [
    "!pip install shap"
   ]
  },
  {
   "cell_type": "code",
   "execution_count": 41,
   "id": "53cc1840",
   "metadata": {
    "id": "53cc1840",
    "outputId": "8726bce9-36be-4639-db3a-7499a9d50b86"
   },
   "outputs": [
    {
     "data": {
      "image/png": "[encoded data removed]",
      "text/plain": [
       "<Figure size 800x310 with 1 Axes>"
      ]
     },
     "metadata": {},
     "output_type": "display_data"
    }
   ],
   "source": [
    "# use shap to interpret the model\n",
    "import shap\n",
    "names=X.columns\n",
    "value=shap.TreeExplainer(tuned_model_rf).shap_values(x_test)\n",
    "shap.summary_plot(value, x_train, plot_type='bar', feature_names=names)"
   ]
  },
  {
   "cell_type": "markdown",
   "id": "573f465c",
   "metadata": {
    "id": "573f465c"
   },
   "source": [
    "We see that the most important features for predicting the flower species are petal length and petal width"
   ]
  },
  {
   "cell_type": "markdown",
   "id": "879ea124",
   "metadata": {
    "id": "879ea124"
   },
   "source": [
    "### Step10: Deploy the Classification Model using Pycaret and Streamlit"
   ]
  },
  {
   "cell_type": "markdown",
   "id": "226fff36",
   "metadata": {
    "id": "226fff36"
   },
   "source": [
    "Check out these links for more informaytion on pycaret and streamlit\n",
    "- https://pycaret.gitbook.io/docs/\n",
    "- https://streamlit.io/"
   ]
  },
  {
   "cell_type": "code",
   "execution_count": 42,
   "id": "f94d5157",
   "metadata": {
    "id": "f94d5157"
   },
   "outputs": [
    {
     "name": "stdout",
     "output_type": "stream",
     "text": [
      "Requirement already satisfied: pycaret in c:\\users\\davidpratap\\appdata\\roaming\\python\\python38\\site-packages (2.3.10)\n",
      "Requirement already satisfied: nltk in c:\\users\\davidpratap\\anaconda3\\envs\\rt1\\lib\\site-packages (from pycaret) (3.7)\n",
      "Requirement already satisfied: spacy<2.4.0 in c:\\users\\davidpratap\\appdata\\roaming\\python\\python38\\site-packages (from pycaret) (2.3.8)\n",
      "Requirement already satisfied: scipy<=1.5.4 in c:\\users\\davidpratap\\appdata\\roaming\\python\\python38\\site-packages (from pycaret) (1.5.4)\n",
      "Requirement already satisfied: scikit-learn==0.23.2 in c:\\users\\davidpratap\\appdata\\roaming\\python\\python38\\site-packages (from pycaret) (0.23.2)\n",
      "Requirement already satisfied: plotly>=4.4.1 in c:\\users\\davidpratap\\anaconda3\\envs\\rt1\\lib\\site-packages (from pycaret) (5.9.0)\n",
      "Requirement already satisfied: pyLDAvis in c:\\users\\davidpratap\\appdata\\roaming\\python\\python38\\site-packages (from pycaret) (3.2.2)\n",
      "Requirement already satisfied: seaborn in c:\\users\\davidpratap\\anaconda3\\envs\\rt1\\lib\\site-packages (from pycaret) (0.12.0)\n",
      "Requirement already satisfied: gensim<4.0.0 in c:\\users\\davidpratap\\appdata\\roaming\\python\\python38\\site-packages (from pycaret) (3.8.3)\n",
      "Requirement already satisfied: pyyaml<6.0.0 in c:\\users\\davidpratap\\appdata\\roaming\\python\\python38\\site-packages (from pycaret) (5.4.1)\n",
      "Requirement already satisfied: kmodes>=0.10.1 in c:\\users\\davidpratap\\appdata\\roaming\\python\\python38\\site-packages (from pycaret) (0.12.2)\n",
      "Requirement already satisfied: joblib in c:\\users\\davidpratap\\anaconda3\\envs\\rt1\\lib\\site-packages (from pycaret) (1.1.1)\n",
      "Requirement already satisfied: textblob in c:\\users\\davidpratap\\appdata\\roaming\\python\\python38\\site-packages (from pycaret) (0.17.1)\n",
      "Requirement already satisfied: matplotlib in c:\\users\\davidpratap\\anaconda3\\envs\\rt1\\lib\\site-packages (from pycaret) (3.5.3)\n",
      "Requirement already satisfied: mlxtend>=0.17.0 in c:\\users\\davidpratap\\appdata\\roaming\\python\\python38\\site-packages (from pycaret) (0.19.0)\n",
      "Requirement already satisfied: pandas-profiling>=2.8.0 in c:\\users\\davidpratap\\appdata\\roaming\\python\\python38\\site-packages (from pycaret) (3.4.0)\n",
      "Requirement already satisfied: mlflow in c:\\users\\davidpratap\\appdata\\roaming\\python\\python38\\site-packages (from pycaret) (1.30.0)\n",
      "Requirement already satisfied: ipywidgets in c:\\users\\davidpratap\\anaconda3\\envs\\rt1\\lib\\site-packages (from pycaret) (7.6.5)\n",
      "Requirement already satisfied: pyod in c:\\users\\davidpratap\\appdata\\roaming\\python\\python38\\site-packages (from pycaret) (1.0.6)\n",
      "Requirement already satisfied: imbalanced-learn==0.7.0 in c:\\users\\davidpratap\\appdata\\roaming\\python\\python38\\site-packages (from pycaret) (0.7.0)\n",
      "Requirement already satisfied: scikit-plot in c:\\users\\davidpratap\\appdata\\roaming\\python\\python38\\site-packages (from pycaret) (0.3.7)\n",
      "Requirement already satisfied: lightgbm>=2.3.1 in c:\\users\\davidpratap\\appdata\\roaming\\python\\python38\\site-packages (from pycaret) (3.3.3)\n",
      "Requirement already satisfied: IPython in c:\\users\\davidpratap\\anaconda3\\envs\\rt1\\lib\\site-packages (from pycaret) (7.31.1)\n",
      "Requirement already satisfied: cufflinks>=0.17.0 in c:\\users\\davidpratap\\appdata\\roaming\\python\\python38\\site-packages (from pycaret) (0.17.3)\n",
      "Requirement already satisfied: umap-learn in c:\\users\\davidpratap\\appdata\\roaming\\python\\python38\\site-packages (from pycaret) (0.5.3)\n",
      "Requirement already satisfied: wordcloud in c:\\users\\davidpratap\\appdata\\roaming\\python\\python38\\site-packages (from pycaret) (1.8.2.2)\n",
      "Requirement already satisfied: yellowbrick>=1.0.1 in c:\\users\\davidpratap\\appdata\\roaming\\python\\python38\\site-packages (from pycaret) (1.3.post1)\n",
      "Requirement already satisfied: pandas in c:\\users\\davidpratap\\anaconda3\\envs\\rt1\\lib\\site-packages (from pycaret) (1.4.4)\n",
      "Requirement already satisfied: Boruta in c:\\users\\davidpratap\\appdata\\roaming\\python\\python38\\site-packages (from pycaret) (0.3)\n",
      "Requirement already satisfied: numba<0.55 in c:\\users\\davidpratap\\appdata\\roaming\\python\\python38\\site-packages (from pycaret) (0.54.1)\n",
      "Requirement already satisfied: numpy>=1.13.3 in c:\\users\\davidpratap\\appdata\\roaming\\python\\python38\\site-packages (from imbalanced-learn==0.7.0->pycaret) (1.19.5)\n",
      "Requirement already satisfied: threadpoolctl>=2.0.0 in c:\\users\\davidpratap\\anaconda3\\envs\\rt1\\lib\\site-packages (from scikit-learn==0.23.2->pycaret) (2.2.0)\n",
      "Requirement already satisfied: six>=1.9.0 in c:\\users\\davidpratap\\anaconda3\\envs\\rt1\\lib\\site-packages (from cufflinks>=0.17.0->pycaret) (1.16.0)\n",
      "Requirement already satisfied: colorlover>=0.2.1 in c:\\users\\davidpratap\\appdata\\roaming\\python\\python38\\site-packages (from cufflinks>=0.17.0->pycaret) (0.3.0)\n",
      "Requirement already satisfied: setuptools>=34.4.1 in c:\\users\\davidpratap\\anaconda3\\envs\\rt1\\lib\\site-packages (from cufflinks>=0.17.0->pycaret) (65.5.0)\n",
      "Requirement already satisfied: smart-open>=1.8.1 in c:\\users\\davidpratap\\anaconda3\\envs\\rt1\\lib\\site-packages (from gensim<4.0.0->pycaret) (5.2.1)\n",
      "Requirement already satisfied: Cython==0.29.14 in c:\\users\\davidpratap\\appdata\\roaming\\python\\python38\\site-packages (from gensim<4.0.0->pycaret) (0.29.14)\n",
      "Requirement already satisfied: colorama in c:\\users\\davidpratap\\anaconda3\\envs\\rt1\\lib\\site-packages (from IPython->pycaret) (0.4.5)\n",
      "Requirement already satisfied: jedi>=0.16 in c:\\users\\davidpratap\\anaconda3\\envs\\rt1\\lib\\site-packages (from IPython->pycaret) (0.18.1)\n",
      "Requirement already satisfied: pickleshare in c:\\users\\davidpratap\\anaconda3\\envs\\rt1\\lib\\site-packages (from IPython->pycaret) (0.7.5)\n",
      "Requirement already satisfied: pygments in c:\\users\\davidpratap\\anaconda3\\envs\\rt1\\lib\\site-packages (from IPython->pycaret) (2.11.2)\n",
      "Requirement already satisfied: matplotlib-inline in c:\\users\\davidpratap\\anaconda3\\envs\\rt1\\lib\\site-packages (from IPython->pycaret) (0.1.6)\n",
      "Requirement already satisfied: backcall in c:\\users\\davidpratap\\anaconda3\\envs\\rt1\\lib\\site-packages (from IPython->pycaret) (0.2.0)\n",
      "Requirement already satisfied: prompt-toolkit!=3.0.0,!=3.0.1,<3.1.0,>=2.0.0 in c:\\users\\davidpratap\\anaconda3\\envs\\rt1\\lib\\site-packages (from IPython->pycaret) (3.0.20)\n",
      "Requirement already satisfied: decorator in c:\\users\\davidpratap\\anaconda3\\envs\\rt1\\lib\\site-packages (from IPython->pycaret) (5.1.1)\n",
      "Requirement already satisfied: traitlets>=4.2 in c:\\users\\davidpratap\\anaconda3\\envs\\rt1\\lib\\site-packages (from IPython->pycaret) (5.1.1)\n",
      "Requirement already satisfied: ipython-genutils~=0.2.0 in c:\\users\\davidpratap\\anaconda3\\envs\\rt1\\lib\\site-packages (from ipywidgets->pycaret) (0.2.0)\n",
      "Requirement already satisfied: jupyterlab-widgets>=1.0.0 in c:\\users\\davidpratap\\anaconda3\\envs\\rt1\\lib\\site-packages (from ipywidgets->pycaret) (1.0.0)\n",
      "Requirement already satisfied: ipykernel>=4.5.1 in c:\\users\\davidpratap\\anaconda3\\envs\\rt1\\lib\\site-packages (from ipywidgets->pycaret) (6.15.2)\n",
      "Requirement already satisfied: widgetsnbextension~=3.5.0 in c:\\users\\davidpratap\\anaconda3\\envs\\rt1\\lib\\site-packages (from ipywidgets->pycaret) (3.5.2)\n",
      "Requirement already satisfied: nbformat>=4.2.0 in c:\\users\\davidpratap\\anaconda3\\envs\\rt1\\lib\\site-packages (from ipywidgets->pycaret) (5.5.0)\n",
      "Requirement already satisfied: wheel in c:\\users\\davidpratap\\anaconda3\\envs\\rt1\\lib\\site-packages (from lightgbm>=2.3.1->pycaret) (0.37.1)\n",
      "Requirement already satisfied: pyparsing>=2.2.1 in c:\\users\\davidpratap\\anaconda3\\envs\\rt1\\lib\\site-packages (from matplotlib->pycaret) (3.0.9)\n",
      "Requirement already satisfied: kiwisolver>=1.0.1 in c:\\users\\davidpratap\\anaconda3\\envs\\rt1\\lib\\site-packages (from matplotlib->pycaret) (1.4.2)\n",
      "Requirement already satisfied: packaging>=20.0 in c:\\users\\davidpratap\\anaconda3\\envs\\rt1\\lib\\site-packages (from matplotlib->pycaret) (21.3)\n",
      "Requirement already satisfied: fonttools>=4.22.0 in c:\\users\\davidpratap\\anaconda3\\envs\\rt1\\lib\\site-packages (from matplotlib->pycaret) (4.25.0)\n",
      "Requirement already satisfied: pillow>=6.2.0 in c:\\users\\davidpratap\\anaconda3\\envs\\rt1\\lib\\site-packages (from matplotlib->pycaret) (9.2.0)\n",
      "Requirement already satisfied: python-dateutil>=2.7 in c:\\users\\davidpratap\\anaconda3\\envs\\rt1\\lib\\site-packages (from matplotlib->pycaret) (2.8.2)\n",
      "Requirement already satisfied: cycler>=0.10 in c:\\users\\davidpratap\\anaconda3\\envs\\rt1\\lib\\site-packages (from matplotlib->pycaret) (0.11.0)\n",
      "Requirement already satisfied: llvmlite<0.38,>=0.37.0rc1 in c:\\users\\davidpratap\\appdata\\roaming\\python\\python38\\site-packages (from numba<0.55->pycaret) (0.37.0)\n",
      "Requirement already satisfied: pytz>=2020.1 in c:\\users\\davidpratap\\anaconda3\\envs\\rt1\\lib\\site-packages (from pandas->pycaret) (2022.1)\n",
      "Requirement already satisfied: multimethod<1.10,>=1.4 in c:\\users\\davidpratap\\appdata\\roaming\\python\\python38\\site-packages (from pandas-profiling>=2.8.0->pycaret) (1.9)\n",
      "Requirement already satisfied: pydantic<1.11,>=1.8.1 in c:\\users\\davidpratap\\appdata\\roaming\\python\\python38\\site-packages (from pandas-profiling>=2.8.0->pycaret) (1.10.2)\n",
      "Requirement already satisfied: visions[type_image_path]==0.7.5 in c:\\users\\davidpratap\\appdata\\roaming\\python\\python38\\site-packages (from pandas-profiling>=2.8.0->pycaret) (0.7.5)\n",
      "Requirement already satisfied: phik<0.13,>=0.11.1 in c:\\users\\davidpratap\\appdata\\roaming\\python\\python38\\site-packages (from pandas-profiling>=2.8.0->pycaret) (0.12.2)\n",
      "Requirement already satisfied: tqdm<4.65,>=4.48.2 in c:\\users\\davidpratap\\anaconda3\\envs\\rt1\\lib\\site-packages (from pandas-profiling>=2.8.0->pycaret) (4.64.1)\n",
      "Requirement already satisfied: statsmodels<0.14,>=0.13.2 in c:\\users\\davidpratap\\anaconda3\\envs\\rt1\\lib\\site-packages (from pandas-profiling>=2.8.0->pycaret) (0.13.2)\n",
      "Requirement already satisfied: requests<2.29,>=2.24.0 in c:\\users\\davidpratap\\anaconda3\\envs\\rt1\\lib\\site-packages (from pandas-profiling>=2.8.0->pycaret) (2.28.1)\n",
      "Requirement already satisfied: htmlmin==0.1.12 in c:\\users\\davidpratap\\appdata\\roaming\\python\\python38\\site-packages (from pandas-profiling>=2.8.0->pycaret) (0.1.12)\n",
      "Requirement already satisfied: missingno<0.6,>=0.4.2 in c:\\users\\davidpratap\\appdata\\roaming\\python\\python38\\site-packages (from pandas-profiling>=2.8.0->pycaret) (0.5.1)\n",
      "Requirement already satisfied: jinja2<3.2,>=2.11.1 in c:\\users\\davidpratap\\anaconda3\\envs\\rt1\\lib\\site-packages (from pandas-profiling>=2.8.0->pycaret) (3.1.2)\n",
      "Requirement already satisfied: networkx>=2.4 in c:\\users\\davidpratap\\anaconda3\\envs\\rt1\\lib\\site-packages (from visions[type_image_path]==0.7.5->pandas-profiling>=2.8.0->pycaret) (2.8.4)\n",
      "Requirement already satisfied: attrs>=19.3.0 in c:\\users\\davidpratap\\anaconda3\\envs\\rt1\\lib\\site-packages (from visions[type_image_path]==0.7.5->pandas-profiling>=2.8.0->pycaret) (21.4.0)\n",
      "Requirement already satisfied: tangled-up-in-unicode>=0.0.4 in c:\\users\\davidpratap\\appdata\\roaming\\python\\python38\\site-packages (from visions[type_image_path]==0.7.5->pandas-profiling>=2.8.0->pycaret) (0.2.0)\n",
      "Requirement already satisfied: imagehash in c:\\users\\davidpratap\\appdata\\roaming\\python\\python38\\site-packages (from visions[type_image_path]==0.7.5->pandas-profiling>=2.8.0->pycaret) (4.3.1)\n",
      "Requirement already satisfied: tenacity>=6.2.0 in c:\\users\\davidpratap\\anaconda3\\envs\\rt1\\lib\\site-packages (from plotly>=4.4.1->pycaret) (8.0.1)\n",
      "Requirement already satisfied: cymem<2.1.0,>=2.0.2 in c:\\users\\davidpratap\\appdata\\roaming\\python\\python38\\site-packages (from spacy<2.4.0->pycaret) (2.0.7)\n",
      "Requirement already satisfied: srsly<1.1.0,>=1.0.2 in c:\\users\\davidpratap\\appdata\\roaming\\python\\python38\\site-packages (from spacy<2.4.0->pycaret) (1.0.6)\n",
      "Requirement already satisfied: wasabi<1.1.0,>=0.4.0 in c:\\users\\davidpratap\\anaconda3\\envs\\rt1\\lib\\site-packages (from spacy<2.4.0->pycaret) (0.10.1)\n",
      "Requirement already satisfied: thinc<7.5.0,>=7.4.1 in c:\\users\\davidpratap\\appdata\\roaming\\python\\python38\\site-packages (from spacy<2.4.0->pycaret) (7.4.6)\n",
      "Requirement already satisfied: preshed<3.1.0,>=3.0.2 in c:\\users\\davidpratap\\appdata\\roaming\\python\\python38\\site-packages (from spacy<2.4.0->pycaret) (3.0.8)\n",
      "Requirement already satisfied: plac<1.2.0,>=0.9.6 in c:\\users\\davidpratap\\appdata\\roaming\\python\\python38\\site-packages (from spacy<2.4.0->pycaret) (1.1.3)\n",
      "Requirement already satisfied: blis<0.8.0,>=0.4.0 in c:\\users\\davidpratap\\appdata\\roaming\\python\\python38\\site-packages (from spacy<2.4.0->pycaret) (0.7.9)\n",
      "Requirement already satisfied: murmurhash<1.1.0,>=0.28.0 in c:\\users\\davidpratap\\appdata\\roaming\\python\\python38\\site-packages (from spacy<2.4.0->pycaret) (1.0.9)\n",
      "Requirement already satisfied: catalogue<1.1.0,>=0.0.7 in c:\\users\\davidpratap\\appdata\\roaming\\python\\python38\\site-packages (from spacy<2.4.0->pycaret) (1.0.2)\n",
      "Requirement already satisfied: importlib-metadata!=4.7.0,<6,>=3.7.0 in c:\\users\\davidpratap\\anaconda3\\envs\\rt1\\lib\\site-packages (from mlflow->pycaret) (4.11.3)\n",
      "Requirement already satisfied: sqlalchemy<2,>=1.4.0 in c:\\users\\davidpratap\\anaconda3\\envs\\rt1\\lib\\site-packages (from mlflow->pycaret) (1.4.39)\n",
      "Requirement already satisfied: alembic<2 in c:\\users\\davidpratap\\appdata\\roaming\\python\\python38\\site-packages (from mlflow->pycaret) (1.8.1)\n",
      "Requirement already satisfied: click<9,>=7.0 in c:\\users\\davidpratap\\anaconda3\\envs\\rt1\\lib\\site-packages (from mlflow->pycaret) (8.0.4)\n",
      "Requirement already satisfied: querystring-parser<2 in c:\\users\\davidpratap\\appdata\\roaming\\python\\python38\\site-packages (from mlflow->pycaret) (1.2.4)\n",
      "Requirement already satisfied: entrypoints<1 in c:\\users\\davidpratap\\anaconda3\\envs\\rt1\\lib\\site-packages (from mlflow->pycaret) (0.4)\n",
      "Requirement already satisfied: sqlparse<1,>=0.4.0 in c:\\users\\davidpratap\\appdata\\roaming\\python\\python38\\site-packages (from mlflow->pycaret) (0.4.3)\n",
      "Requirement already satisfied: prometheus-flask-exporter<1 in c:\\users\\davidpratap\\appdata\\roaming\\python\\python38\\site-packages (from mlflow->pycaret) (0.20.3)\n",
      "Requirement already satisfied: protobuf<5,>=3.12.0 in c:\\users\\davidpratap\\anaconda3\\envs\\rt1\\lib\\site-packages (from mlflow->pycaret) (3.20.3)\n",
      "Requirement already satisfied: Flask<3 in c:\\users\\davidpratap\\anaconda3\\envs\\rt1\\lib\\site-packages (from mlflow->pycaret) (2.1.3)\n",
      "Requirement already satisfied: docker<7,>=4.0.0 in c:\\users\\davidpratap\\appdata\\roaming\\python\\python38\\site-packages (from mlflow->pycaret) (6.0.1)\n",
      "Requirement already satisfied: databricks-cli<1,>=0.8.7 in c:\\users\\davidpratap\\appdata\\roaming\\python\\python38\\site-packages (from mlflow->pycaret) (0.17.3)\n",
      "Requirement already satisfied: gitpython<4,>=2.1.0 in c:\\users\\davidpratap\\anaconda3\\envs\\rt1\\lib\\site-packages (from mlflow->pycaret) (3.1.29)\n",
      "Requirement already satisfied: cloudpickle<3 in c:\\users\\davidpratap\\anaconda3\\envs\\rt1\\lib\\site-packages (from mlflow->pycaret) (2.0.0)\n",
      "Requirement already satisfied: waitress<3 in c:\\users\\davidpratap\\appdata\\roaming\\python\\python38\\site-packages (from mlflow->pycaret) (2.1.2)\n",
      "Requirement already satisfied: regex>=2021.8.3 in c:\\users\\davidpratap\\anaconda3\\envs\\rt1\\lib\\site-packages (from nltk->pycaret) (2022.7.9)\n",
      "Requirement already satisfied: funcy in c:\\users\\davidpratap\\appdata\\roaming\\python\\python38\\site-packages (from pyLDAvis->pycaret) (1.17)\n",
      "Requirement already satisfied: numexpr in c:\\users\\davidpratap\\anaconda3\\envs\\rt1\\lib\\site-packages (from pyLDAvis->pycaret) (2.8.3)\n",
      "Requirement already satisfied: future in c:\\users\\davidpratap\\appdata\\roaming\\python\\python38\\site-packages (from pyLDAvis->pycaret) (0.18.2)\n",
      "Requirement already satisfied: pynndescent>=0.5 in c:\\users\\davidpratap\\appdata\\roaming\\python\\python38\\site-packages (from umap-learn->pycaret) (0.5.8)\n",
      "Requirement already satisfied: Mako in c:\\users\\davidpratap\\appdata\\roaming\\python\\python38\\site-packages (from alembic<2->mlflow->pycaret) (1.2.3)\n",
      "Requirement already satisfied: importlib-resources in c:\\users\\davidpratap\\anaconda3\\envs\\rt1\\lib\\site-packages (from alembic<2->mlflow->pycaret) (5.2.0)\n",
      "Requirement already satisfied: tabulate>=0.7.7 in c:\\users\\davidpratap\\anaconda3\\envs\\rt1\\lib\\site-packages (from databricks-cli<1,>=0.8.7->mlflow->pycaret) (0.8.10)\n",
      "Requirement already satisfied: pyjwt>=1.7.0 in c:\\users\\davidpratap\\appdata\\roaming\\python\\python38\\site-packages (from databricks-cli<1,>=0.8.7->mlflow->pycaret) (2.6.0)\n",
      "Requirement already satisfied: oauthlib>=3.1.0 in c:\\users\\davidpratap\\appdata\\roaming\\python\\python38\\site-packages (from databricks-cli<1,>=0.8.7->mlflow->pycaret) (3.2.2)\n",
      "Requirement already satisfied: urllib3>=1.26.0 in c:\\users\\davidpratap\\anaconda3\\envs\\rt1\\lib\\site-packages (from docker<7,>=4.0.0->mlflow->pycaret) (1.26.12)\n",
      "Requirement already satisfied: websocket-client>=0.32.0 in c:\\users\\davidpratap\\anaconda3\\envs\\rt1\\lib\\site-packages (from docker<7,>=4.0.0->mlflow->pycaret) (0.58.0)\n",
      "Requirement already satisfied: pywin32>=304 in c:\\users\\davidpratap\\appdata\\roaming\\python\\python38\\site-packages (from docker<7,>=4.0.0->mlflow->pycaret) (305)\n",
      "Requirement already satisfied: itsdangerous>=2.0 in c:\\users\\davidpratap\\anaconda3\\envs\\rt1\\lib\\site-packages (from Flask<3->mlflow->pycaret) (2.0.1)\n",
      "Requirement already satisfied: Werkzeug>=2.0 in c:\\users\\davidpratap\\anaconda3\\envs\\rt1\\lib\\site-packages (from Flask<3->mlflow->pycaret) (2.0.3)\n",
      "Requirement already satisfied: gitdb<5,>=4.0.1 in c:\\users\\davidpratap\\anaconda3\\envs\\rt1\\lib\\site-packages (from gitpython<4,>=2.1.0->mlflow->pycaret) (4.0.9)\n",
      "Requirement already satisfied: zipp>=0.5 in c:\\users\\davidpratap\\anaconda3\\envs\\rt1\\lib\\site-packages (from importlib-metadata!=4.7.0,<6,>=3.7.0->mlflow->pycaret) (3.8.0)\n",
      "Requirement already satisfied: pyzmq>=17 in c:\\users\\davidpratap\\anaconda3\\envs\\rt1\\lib\\site-packages (from ipykernel>=4.5.1->ipywidgets->pycaret) (23.2.0)\n",
      "Requirement already satisfied: nest-asyncio in c:\\users\\davidpratap\\anaconda3\\envs\\rt1\\lib\\site-packages (from ipykernel>=4.5.1->ipywidgets->pycaret) (1.5.5)\n",
      "Requirement already satisfied: psutil in c:\\users\\davidpratap\\anaconda3\\envs\\rt1\\lib\\site-packages (from ipykernel>=4.5.1->ipywidgets->pycaret) (5.9.0)\n",
      "Requirement already satisfied: debugpy>=1.0 in c:\\users\\davidpratap\\anaconda3\\envs\\rt1\\lib\\site-packages (from ipykernel>=4.5.1->ipywidgets->pycaret) (1.5.1)\n",
      "Requirement already satisfied: jupyter-client>=6.1.12 in c:\\users\\davidpratap\\anaconda3\\envs\\rt1\\lib\\site-packages (from ipykernel>=4.5.1->ipywidgets->pycaret) (7.3.4)\n",
      "Requirement already satisfied: tornado>=6.1 in c:\\users\\davidpratap\\anaconda3\\envs\\rt1\\lib\\site-packages (from ipykernel>=4.5.1->ipywidgets->pycaret) (6.1)\n",
      "Requirement already satisfied: parso<0.9.0,>=0.8.0 in c:\\users\\davidpratap\\anaconda3\\envs\\rt1\\lib\\site-packages (from jedi>=0.16->IPython->pycaret) (0.8.3)\n",
      "Requirement already satisfied: MarkupSafe>=2.0 in c:\\users\\davidpratap\\anaconda3\\envs\\rt1\\lib\\site-packages (from jinja2<3.2,>=2.11.1->pandas-profiling>=2.8.0->pycaret) (2.1.1)\n",
      "Requirement already satisfied: fastjsonschema in c:\\users\\davidpratap\\anaconda3\\envs\\rt1\\lib\\site-packages (from nbformat>=4.2.0->ipywidgets->pycaret) (2.16.2)\n",
      "Requirement already satisfied: jupyter_core in c:\\users\\davidpratap\\anaconda3\\envs\\rt1\\lib\\site-packages (from nbformat>=4.2.0->ipywidgets->pycaret) (4.11.1)\n",
      "Requirement already satisfied: jsonschema>=2.6 in c:\\users\\davidpratap\\anaconda3\\envs\\rt1\\lib\\site-packages (from nbformat>=4.2.0->ipywidgets->pycaret) (4.16.0)\n",
      "Requirement already satisfied: prometheus-client in c:\\users\\davidpratap\\anaconda3\\envs\\rt1\\lib\\site-packages (from prometheus-flask-exporter<1->mlflow->pycaret) (0.14.1)\n",
      "Requirement already satisfied: wcwidth in c:\\users\\davidpratap\\anaconda3\\envs\\rt1\\lib\\site-packages (from prompt-toolkit!=3.0.0,!=3.0.1,<3.1.0,>=2.0.0->IPython->pycaret) (0.2.5)\n",
      "Requirement already satisfied: typing-extensions>=4.1.0 in c:\\users\\davidpratap\\anaconda3\\envs\\rt1\\lib\\site-packages (from pydantic<1.11,>=1.8.1->pandas-profiling>=2.8.0->pycaret) (4.3.0)\n",
      "Requirement already satisfied: charset-normalizer<3,>=2 in c:\\users\\davidpratap\\anaconda3\\envs\\rt1\\lib\\site-packages (from requests<2.29,>=2.24.0->pandas-profiling>=2.8.0->pycaret) (2.0.4)\n",
      "Requirement already satisfied: idna<4,>=2.5 in c:\\users\\davidpratap\\anaconda3\\envs\\rt1\\lib\\site-packages (from requests<2.29,>=2.24.0->pandas-profiling>=2.8.0->pycaret) (3.4)\n",
      "Requirement already satisfied: certifi>=2017.4.17 in c:\\users\\davidpratap\\anaconda3\\envs\\rt1\\lib\\site-packages (from requests<2.29,>=2.24.0->pandas-profiling>=2.8.0->pycaret) (2022.9.24)\n",
      "Requirement already satisfied: greenlet!=0.4.17 in c:\\users\\davidpratap\\anaconda3\\envs\\rt1\\lib\\site-packages (from sqlalchemy<2,>=1.4.0->mlflow->pycaret) (1.1.1)\n",
      "Requirement already satisfied: patsy>=0.5.2 in c:\\users\\davidpratap\\anaconda3\\envs\\rt1\\lib\\site-packages (from statsmodels<0.14,>=0.13.2->pandas-profiling>=2.8.0->pycaret) (0.5.2)\n",
      "Requirement already satisfied: notebook>=4.4.1 in c:\\users\\davidpratap\\anaconda3\\envs\\rt1\\lib\\site-packages (from widgetsnbextension~=3.5.0->ipywidgets->pycaret) (6.4.12)\n",
      "Requirement already satisfied: smmap<6,>=3.0.1 in c:\\users\\davidpratap\\anaconda3\\envs\\rt1\\lib\\site-packages (from gitdb<5,>=4.0.1->gitpython<4,>=2.1.0->mlflow->pycaret) (5.0.0)\n",
      "Requirement already satisfied: pyrsistent!=0.17.0,!=0.17.1,!=0.17.2,>=0.14.0 in c:\\users\\davidpratap\\anaconda3\\envs\\rt1\\lib\\site-packages (from jsonschema>=2.6->nbformat>=4.2.0->ipywidgets->pycaret) (0.18.0)\n",
      "Requirement already satisfied: pkgutil-resolve-name>=1.3.10 in c:\\users\\davidpratap\\anaconda3\\envs\\rt1\\lib\\site-packages (from jsonschema>=2.6->nbformat>=4.2.0->ipywidgets->pycaret) (1.3.10)\n",
      "Requirement already satisfied: terminado>=0.8.3 in c:\\users\\davidpratap\\anaconda3\\envs\\rt1\\lib\\site-packages (from notebook>=4.4.1->widgetsnbextension~=3.5.0->ipywidgets->pycaret) (0.13.1)\n",
      "Requirement already satisfied: nbconvert>=5 in c:\\users\\davidpratap\\anaconda3\\envs\\rt1\\lib\\site-packages (from notebook>=4.4.1->widgetsnbextension~=3.5.0->ipywidgets->pycaret) (6.4.4)\n",
      "Requirement already satisfied: Send2Trash>=1.8.0 in c:\\users\\davidpratap\\anaconda3\\envs\\rt1\\lib\\site-packages (from notebook>=4.4.1->widgetsnbextension~=3.5.0->ipywidgets->pycaret) (1.8.0)\n",
      "Requirement already satisfied: argon2-cffi in c:\\users\\davidpratap\\anaconda3\\envs\\rt1\\lib\\site-packages (from notebook>=4.4.1->widgetsnbextension~=3.5.0->ipywidgets->pycaret) (21.3.0)\n",
      "Requirement already satisfied: PyWavelets in c:\\users\\davidpratap\\anaconda3\\envs\\rt1\\lib\\site-packages (from imagehash->visions[type_image_path]==0.7.5->pandas-profiling>=2.8.0->pycaret) (1.3.0)\n",
      "Requirement already satisfied: testpath in c:\\users\\davidpratap\\anaconda3\\envs\\rt1\\lib\\site-packages (from nbconvert>=5->notebook>=4.4.1->widgetsnbextension~=3.5.0->ipywidgets->pycaret) (0.6.0)\n",
      "Requirement already satisfied: bleach in c:\\users\\davidpratap\\anaconda3\\envs\\rt1\\lib\\site-packages (from nbconvert>=5->notebook>=4.4.1->widgetsnbextension~=3.5.0->ipywidgets->pycaret) (4.1.0)\n",
      "Requirement already satisfied: defusedxml in c:\\users\\davidpratap\\anaconda3\\envs\\rt1\\lib\\site-packages (from nbconvert>=5->notebook>=4.4.1->widgetsnbextension~=3.5.0->ipywidgets->pycaret) (0.7.1)\n",
      "Requirement already satisfied: nbclient<0.6.0,>=0.5.0 in c:\\users\\davidpratap\\anaconda3\\envs\\rt1\\lib\\site-packages (from nbconvert>=5->notebook>=4.4.1->widgetsnbextension~=3.5.0->ipywidgets->pycaret) (0.5.13)\n",
      "Requirement already satisfied: mistune<2,>=0.8.1 in c:\\users\\davidpratap\\anaconda3\\envs\\rt1\\lib\\site-packages (from nbconvert>=5->notebook>=4.4.1->widgetsnbextension~=3.5.0->ipywidgets->pycaret) (0.8.4)\n",
      "Requirement already satisfied: jupyterlab-pygments in c:\\users\\davidpratap\\anaconda3\\envs\\rt1\\lib\\site-packages (from nbconvert>=5->notebook>=4.4.1->widgetsnbextension~=3.5.0->ipywidgets->pycaret) (0.1.2)\n",
      "Requirement already satisfied: pandocfilters>=1.4.1 in c:\\users\\davidpratap\\anaconda3\\envs\\rt1\\lib\\site-packages (from nbconvert>=5->notebook>=4.4.1->widgetsnbextension~=3.5.0->ipywidgets->pycaret) (1.5.0)\n",
      "Requirement already satisfied: beautifulsoup4 in c:\\users\\davidpratap\\anaconda3\\envs\\rt1\\lib\\site-packages (from nbconvert>=5->notebook>=4.4.1->widgetsnbextension~=3.5.0->ipywidgets->pycaret) (4.11.1)\n",
      "Requirement already satisfied: pywinpty>=1.1.0 in c:\\users\\davidpratap\\anaconda3\\envs\\rt1\\lib\\site-packages (from terminado>=0.8.3->notebook>=4.4.1->widgetsnbextension~=3.5.0->ipywidgets->pycaret) (2.0.2)\n",
      "Requirement already satisfied: argon2-cffi-bindings in c:\\users\\davidpratap\\anaconda3\\envs\\rt1\\lib\\site-packages (from argon2-cffi->notebook>=4.4.1->widgetsnbextension~=3.5.0->ipywidgets->pycaret) (21.2.0)\n",
      "Requirement already satisfied: cffi>=1.0.1 in c:\\users\\davidpratap\\anaconda3\\envs\\rt1\\lib\\site-packages (from argon2-cffi-bindings->argon2-cffi->notebook>=4.4.1->widgetsnbextension~=3.5.0->ipywidgets->pycaret) (1.15.1)\n",
      "Requirement already satisfied: soupsieve>1.2 in c:\\users\\davidpratap\\anaconda3\\envs\\rt1\\lib\\site-packages (from beautifulsoup4->nbconvert>=5->notebook>=4.4.1->widgetsnbextension~=3.5.0->ipywidgets->pycaret) (2.3.2.post1)\n",
      "Requirement already satisfied: webencodings in c:\\users\\davidpratap\\anaconda3\\envs\\rt1\\lib\\site-packages (from bleach->nbconvert>=5->notebook>=4.4.1->widgetsnbextension~=3.5.0->ipywidgets->pycaret) (0.5.1)\n",
      "Requirement already satisfied: pycparser in c:\\users\\davidpratap\\anaconda3\\envs\\rt1\\lib\\site-packages (from cffi>=1.0.1->argon2-cffi-bindings->argon2-cffi->notebook>=4.4.1->widgetsnbextension~=3.5.0->ipywidgets->pycaret) (2.21)\n"
     ]
    }
   ],
   "source": [
    "!pip install --pre pycaret"
   ]
  },
  {
   "cell_type": "code",
   "execution_count": 43,
   "id": "1f3ade09",
   "metadata": {},
   "outputs": [
    {
     "name": "stdout",
     "output_type": "stream",
     "text": [
      "Requirement already satisfied: streamlit in c:\\users\\davidpratap\\anaconda3\\envs\\rt1\\lib\\site-packages (1.14.0)\n",
      "Requirement already satisfied: pandas>=0.21.0 in c:\\users\\davidpratap\\anaconda3\\envs\\rt1\\lib\\site-packages (from streamlit) (1.4.4)\n",
      "Requirement already satisfied: protobuf<4,>=3.12 in c:\\users\\davidpratap\\anaconda3\\envs\\rt1\\lib\\site-packages (from streamlit) (3.20.3)\n",
      "Requirement already satisfied: watchdog in c:\\users\\davidpratap\\anaconda3\\envs\\rt1\\lib\\site-packages (from streamlit) (2.1.6)\n",
      "Requirement already satisfied: pydeck>=0.1.dev5 in c:\\users\\davidpratap\\anaconda3\\envs\\rt1\\lib\\site-packages (from streamlit) (0.8.0)\n",
      "Requirement already satisfied: packaging>=14.1 in c:\\users\\davidpratap\\anaconda3\\envs\\rt1\\lib\\site-packages (from streamlit) (21.3)\n",
      "Requirement already satisfied: typing-extensions>=3.10.0.0 in c:\\users\\davidpratap\\anaconda3\\envs\\rt1\\lib\\site-packages (from streamlit) (4.3.0)\n",
      "Requirement already satisfied: cachetools>=4.0 in c:\\users\\davidpratap\\anaconda3\\envs\\rt1\\lib\\site-packages (from streamlit) (5.2.0)\n",
      "Requirement already satisfied: rich>=10.11.0 in c:\\users\\davidpratap\\anaconda3\\envs\\rt1\\lib\\site-packages (from streamlit) (12.6.0)\n",
      "Requirement already satisfied: pillow>=6.2.0 in c:\\users\\davidpratap\\anaconda3\\envs\\rt1\\lib\\site-packages (from streamlit) (9.2.0)\n",
      "Requirement already satisfied: blinker>=1.0.0 in c:\\users\\davidpratap\\anaconda3\\envs\\rt1\\lib\\site-packages (from streamlit) (1.5)\n",
      "Requirement already satisfied: requests>=2.4 in c:\\users\\davidpratap\\anaconda3\\envs\\rt1\\lib\\site-packages (from streamlit) (2.28.1)\n",
      "Requirement already satisfied: pympler>=0.9 in c:\\users\\davidpratap\\anaconda3\\envs\\rt1\\lib\\site-packages (from streamlit) (1.0.1)\n",
      "Requirement already satisfied: numpy in c:\\users\\davidpratap\\appdata\\roaming\\python\\python38\\site-packages (from streamlit) (1.19.5)\n",
      "Requirement already satisfied: tzlocal>=1.1 in c:\\users\\davidpratap\\anaconda3\\envs\\rt1\\lib\\site-packages (from streamlit) (4.2)\n",
      "Requirement already satisfied: click>=7.0 in c:\\users\\davidpratap\\anaconda3\\envs\\rt1\\lib\\site-packages (from streamlit) (8.0.4)\n",
      "Requirement already satisfied: toml in c:\\users\\davidpratap\\anaconda3\\envs\\rt1\\lib\\site-packages (from streamlit) (0.10.2)\n",
      "Requirement already satisfied: gitpython!=3.1.19 in c:\\users\\davidpratap\\anaconda3\\envs\\rt1\\lib\\site-packages (from streamlit) (3.1.29)\n",
      "Requirement already satisfied: validators>=0.2 in c:\\users\\davidpratap\\anaconda3\\envs\\rt1\\lib\\site-packages (from streamlit) (0.20.0)\n",
      "Requirement already satisfied: pyarrow>=4.0 in c:\\users\\davidpratap\\anaconda3\\envs\\rt1\\lib\\site-packages (from streamlit) (10.0.0)\n",
      "Requirement already satisfied: altair>=3.2.0 in c:\\users\\davidpratap\\anaconda3\\envs\\rt1\\lib\\site-packages (from streamlit) (4.2.0)\n",
      "Requirement already satisfied: semver in c:\\users\\davidpratap\\anaconda3\\envs\\rt1\\lib\\site-packages (from streamlit) (2.13.0)\n",
      "Requirement already satisfied: python-dateutil in c:\\users\\davidpratap\\anaconda3\\envs\\rt1\\lib\\site-packages (from streamlit) (2.8.2)\n",
      "Requirement already satisfied: tornado>=5.0 in c:\\users\\davidpratap\\anaconda3\\envs\\rt1\\lib\\site-packages (from streamlit) (6.1)\n",
      "Requirement already satisfied: importlib-metadata>=1.4 in c:\\users\\davidpratap\\anaconda3\\envs\\rt1\\lib\\site-packages (from streamlit) (4.11.3)\n",
      "Requirement already satisfied: jinja2 in c:\\users\\davidpratap\\anaconda3\\envs\\rt1\\lib\\site-packages (from altair>=3.2.0->streamlit) (3.1.2)\n",
      "Requirement already satisfied: jsonschema>=3.0 in c:\\users\\davidpratap\\anaconda3\\envs\\rt1\\lib\\site-packages (from altair>=3.2.0->streamlit) (4.16.0)\n",
      "Requirement already satisfied: toolz in c:\\users\\davidpratap\\anaconda3\\envs\\rt1\\lib\\site-packages (from altair>=3.2.0->streamlit) (0.12.0)\n",
      "Requirement already satisfied: entrypoints in c:\\users\\davidpratap\\anaconda3\\envs\\rt1\\lib\\site-packages (from altair>=3.2.0->streamlit) (0.4)\n",
      "Requirement already satisfied: colorama in c:\\users\\davidpratap\\anaconda3\\envs\\rt1\\lib\\site-packages (from click>=7.0->streamlit) (0.4.5)\n",
      "Requirement already satisfied: gitdb<5,>=4.0.1 in c:\\users\\davidpratap\\anaconda3\\envs\\rt1\\lib\\site-packages (from gitpython!=3.1.19->streamlit) (4.0.9)\n",
      "Requirement already satisfied: zipp>=0.5 in c:\\users\\davidpratap\\anaconda3\\envs\\rt1\\lib\\site-packages (from importlib-metadata>=1.4->streamlit) (3.8.0)\n",
      "Requirement already satisfied: pyparsing!=3.0.5,>=2.0.2 in c:\\users\\davidpratap\\anaconda3\\envs\\rt1\\lib\\site-packages (from packaging>=14.1->streamlit) (3.0.9)\n",
      "Requirement already satisfied: pytz>=2020.1 in c:\\users\\davidpratap\\anaconda3\\envs\\rt1\\lib\\site-packages (from pandas>=0.21.0->streamlit) (2022.1)\n",
      "Requirement already satisfied: six>=1.5 in c:\\users\\davidpratap\\anaconda3\\envs\\rt1\\lib\\site-packages (from python-dateutil->streamlit) (1.16.0)\n",
      "Requirement already satisfied: charset-normalizer<3,>=2 in c:\\users\\davidpratap\\anaconda3\\envs\\rt1\\lib\\site-packages (from requests>=2.4->streamlit) (2.0.4)\n",
      "Requirement already satisfied: urllib3<1.27,>=1.21.1 in c:\\users\\davidpratap\\anaconda3\\envs\\rt1\\lib\\site-packages (from requests>=2.4->streamlit) (1.26.12)\n",
      "Requirement already satisfied: certifi>=2017.4.17 in c:\\users\\davidpratap\\anaconda3\\envs\\rt1\\lib\\site-packages (from requests>=2.4->streamlit) (2022.9.24)\n",
      "Requirement already satisfied: idna<4,>=2.5 in c:\\users\\davidpratap\\anaconda3\\envs\\rt1\\lib\\site-packages (from requests>=2.4->streamlit) (3.4)\n",
      "Requirement already satisfied: commonmark<0.10.0,>=0.9.0 in c:\\users\\davidpratap\\anaconda3\\envs\\rt1\\lib\\site-packages (from rich>=10.11.0->streamlit) (0.9.1)\n",
      "Requirement already satisfied: pygments<3.0.0,>=2.6.0 in c:\\users\\davidpratap\\anaconda3\\envs\\rt1\\lib\\site-packages (from rich>=10.11.0->streamlit) (2.11.2)\n",
      "Requirement already satisfied: tzdata in c:\\users\\davidpratap\\anaconda3\\envs\\rt1\\lib\\site-packages (from tzlocal>=1.1->streamlit) (2022.6)\n",
      "Requirement already satisfied: backports.zoneinfo in c:\\users\\davidpratap\\anaconda3\\envs\\rt1\\lib\\site-packages (from tzlocal>=1.1->streamlit) (0.2.1)\n",
      "Requirement already satisfied: pytz-deprecation-shim in c:\\users\\davidpratap\\anaconda3\\envs\\rt1\\lib\\site-packages (from tzlocal>=1.1->streamlit) (0.1.0.post0)\n",
      "Requirement already satisfied: decorator>=3.4.0 in c:\\users\\davidpratap\\anaconda3\\envs\\rt1\\lib\\site-packages (from validators>=0.2->streamlit) (5.1.1)\n",
      "Requirement already satisfied: smmap<6,>=3.0.1 in c:\\users\\davidpratap\\anaconda3\\envs\\rt1\\lib\\site-packages (from gitdb<5,>=4.0.1->gitpython!=3.1.19->streamlit) (5.0.0)\n",
      "Requirement already satisfied: MarkupSafe>=2.0 in c:\\users\\davidpratap\\anaconda3\\envs\\rt1\\lib\\site-packages (from jinja2->altair>=3.2.0->streamlit) (2.1.1)\n",
      "Requirement already satisfied: importlib-resources>=1.4.0 in c:\\users\\davidpratap\\anaconda3\\envs\\rt1\\lib\\site-packages (from jsonschema>=3.0->altair>=3.2.0->streamlit) (5.2.0)\n",
      "Requirement already satisfied: attrs>=17.4.0 in c:\\users\\davidpratap\\anaconda3\\envs\\rt1\\lib\\site-packages (from jsonschema>=3.0->altair>=3.2.0->streamlit) (21.4.0)\n",
      "Requirement already satisfied: pkgutil-resolve-name>=1.3.10 in c:\\users\\davidpratap\\anaconda3\\envs\\rt1\\lib\\site-packages (from jsonschema>=3.0->altair>=3.2.0->streamlit) (1.3.10)\n",
      "Requirement already satisfied: pyrsistent!=0.17.0,!=0.17.1,!=0.17.2,>=0.14.0 in c:\\users\\davidpratap\\anaconda3\\envs\\rt1\\lib\\site-packages (from jsonschema>=3.0->altair>=3.2.0->streamlit) (0.18.0)\n"
     ]
    }
   ],
   "source": [
    "!pip install streamlit"
   ]
  },
  {
   "cell_type": "code",
   "execution_count": 45,
   "id": "46b44161",
   "metadata": {
    "colab": {
     "base_uri": "https://localhost:8080/",
     "height": 1000,
     "referenced_widgets": [
      "939e31abae4b4829bf6b6a407f199e46",
      "a55767cb423a4d77804cfcd574a14f7a",
      "e99f9230fa094955bf4b78eafaeee73f",
      "7b11005dfe66423ca51ab529e502b855",
      "d86f3615494244139c22d56879690fc2",
      "1fbc0e50b2be430399664de6bf36a8a1"
     ]
    },
    "executionInfo": {
     "elapsed": 4105,
     "status": "ok",
     "timestamp": 1650461612010,
     "user": {
      "displayName": "David Pratap",
      "userId": "09405790748084406328"
     },
     "user_tz": -330
    },
    "id": "46b44161",
    "outputId": "88ea7b80-9aac-4827-ba8a-9398cc9938ff"
   },
   "outputs": [
    {
     "data": {
      "text/html": [
       "<style type=\"text/css\">\n",
       "#T_dc5ba_row44_col1 {\n",
       "  background-color: lightgreen;\n",
       "}\n",
       "</style>\n",
       "<table id=\"T_dc5ba\">\n",
       "  <thead>\n",
       "    <tr>\n",
       "      <th class=\"blank level0\" >&nbsp;</th>\n",
       "      <th id=\"T_dc5ba_level0_col0\" class=\"col_heading level0 col0\" >Description</th>\n",
       "      <th id=\"T_dc5ba_level0_col1\" class=\"col_heading level0 col1\" >Value</th>\n",
       "    </tr>\n",
       "  </thead>\n",
       "  <tbody>\n",
       "    <tr>\n",
       "      <th id=\"T_dc5ba_level0_row0\" class=\"row_heading level0 row0\" >0</th>\n",
       "      <td id=\"T_dc5ba_row0_col0\" class=\"data row0 col0\" >session_id</td>\n",
       "      <td id=\"T_dc5ba_row0_col1\" class=\"data row0 col1\" >3079</td>\n",
       "    </tr>\n",
       "    <tr>\n",
       "      <th id=\"T_dc5ba_level0_row1\" class=\"row_heading level0 row1\" >1</th>\n",
       "      <td id=\"T_dc5ba_row1_col0\" class=\"data row1 col0\" >Target</td>\n",
       "      <td id=\"T_dc5ba_row1_col1\" class=\"data row1 col1\" >class</td>\n",
       "    </tr>\n",
       "    <tr>\n",
       "      <th id=\"T_dc5ba_level0_row2\" class=\"row_heading level0 row2\" >2</th>\n",
       "      <td id=\"T_dc5ba_row2_col0\" class=\"data row2 col0\" >Target Type</td>\n",
       "      <td id=\"T_dc5ba_row2_col1\" class=\"data row2 col1\" >Multiclass</td>\n",
       "    </tr>\n",
       "    <tr>\n",
       "      <th id=\"T_dc5ba_level0_row3\" class=\"row_heading level0 row3\" >3</th>\n",
       "      <td id=\"T_dc5ba_row3_col0\" class=\"data row3 col0\" >Label Encoded</td>\n",
       "      <td id=\"T_dc5ba_row3_col1\" class=\"data row3 col1\" >setosa: 0, versicolor: 1, virginica: 2</td>\n",
       "    </tr>\n",
       "    <tr>\n",
       "      <th id=\"T_dc5ba_level0_row4\" class=\"row_heading level0 row4\" >4</th>\n",
       "      <td id=\"T_dc5ba_row4_col0\" class=\"data row4 col0\" >Original Data</td>\n",
       "      <td id=\"T_dc5ba_row4_col1\" class=\"data row4 col1\" >(150, 5)</td>\n",
       "    </tr>\n",
       "    <tr>\n",
       "      <th id=\"T_dc5ba_level0_row5\" class=\"row_heading level0 row5\" >5</th>\n",
       "      <td id=\"T_dc5ba_row5_col0\" class=\"data row5 col0\" >Missing Values</td>\n",
       "      <td id=\"T_dc5ba_row5_col1\" class=\"data row5 col1\" >False</td>\n",
       "    </tr>\n",
       "    <tr>\n",
       "      <th id=\"T_dc5ba_level0_row6\" class=\"row_heading level0 row6\" >6</th>\n",
       "      <td id=\"T_dc5ba_row6_col0\" class=\"data row6 col0\" >Numeric Features</td>\n",
       "      <td id=\"T_dc5ba_row6_col1\" class=\"data row6 col1\" >4</td>\n",
       "    </tr>\n",
       "    <tr>\n",
       "      <th id=\"T_dc5ba_level0_row7\" class=\"row_heading level0 row7\" >7</th>\n",
       "      <td id=\"T_dc5ba_row7_col0\" class=\"data row7 col0\" >Categorical Features</td>\n",
       "      <td id=\"T_dc5ba_row7_col1\" class=\"data row7 col1\" >0</td>\n",
       "    </tr>\n",
       "    <tr>\n",
       "      <th id=\"T_dc5ba_level0_row8\" class=\"row_heading level0 row8\" >8</th>\n",
       "      <td id=\"T_dc5ba_row8_col0\" class=\"data row8 col0\" >Ordinal Features</td>\n",
       "      <td id=\"T_dc5ba_row8_col1\" class=\"data row8 col1\" >False</td>\n",
       "    </tr>\n",
       "    <tr>\n",
       "      <th id=\"T_dc5ba_level0_row9\" class=\"row_heading level0 row9\" >9</th>\n",
       "      <td id=\"T_dc5ba_row9_col0\" class=\"data row9 col0\" >High Cardinality Features</td>\n",
       "      <td id=\"T_dc5ba_row9_col1\" class=\"data row9 col1\" >False</td>\n",
       "    </tr>\n",
       "    <tr>\n",
       "      <th id=\"T_dc5ba_level0_row10\" class=\"row_heading level0 row10\" >10</th>\n",
       "      <td id=\"T_dc5ba_row10_col0\" class=\"data row10 col0\" >High Cardinality Method</td>\n",
       "      <td id=\"T_dc5ba_row10_col1\" class=\"data row10 col1\" >None</td>\n",
       "    </tr>\n",
       "    <tr>\n",
       "      <th id=\"T_dc5ba_level0_row11\" class=\"row_heading level0 row11\" >11</th>\n",
       "      <td id=\"T_dc5ba_row11_col0\" class=\"data row11 col0\" >Transformed Train Set</td>\n",
       "      <td id=\"T_dc5ba_row11_col1\" class=\"data row11 col1\" >(104, 4)</td>\n",
       "    </tr>\n",
       "    <tr>\n",
       "      <th id=\"T_dc5ba_level0_row12\" class=\"row_heading level0 row12\" >12</th>\n",
       "      <td id=\"T_dc5ba_row12_col0\" class=\"data row12 col0\" >Transformed Test Set</td>\n",
       "      <td id=\"T_dc5ba_row12_col1\" class=\"data row12 col1\" >(46, 4)</td>\n",
       "    </tr>\n",
       "    <tr>\n",
       "      <th id=\"T_dc5ba_level0_row13\" class=\"row_heading level0 row13\" >13</th>\n",
       "      <td id=\"T_dc5ba_row13_col0\" class=\"data row13 col0\" >Shuffle Train-Test</td>\n",
       "      <td id=\"T_dc5ba_row13_col1\" class=\"data row13 col1\" >True</td>\n",
       "    </tr>\n",
       "    <tr>\n",
       "      <th id=\"T_dc5ba_level0_row14\" class=\"row_heading level0 row14\" >14</th>\n",
       "      <td id=\"T_dc5ba_row14_col0\" class=\"data row14 col0\" >Stratify Train-Test</td>\n",
       "      <td id=\"T_dc5ba_row14_col1\" class=\"data row14 col1\" >False</td>\n",
       "    </tr>\n",
       "    <tr>\n",
       "      <th id=\"T_dc5ba_level0_row15\" class=\"row_heading level0 row15\" >15</th>\n",
       "      <td id=\"T_dc5ba_row15_col0\" class=\"data row15 col0\" >Fold Generator</td>\n",
       "      <td id=\"T_dc5ba_row15_col1\" class=\"data row15 col1\" >StratifiedKFold</td>\n",
       "    </tr>\n",
       "    <tr>\n",
       "      <th id=\"T_dc5ba_level0_row16\" class=\"row_heading level0 row16\" >16</th>\n",
       "      <td id=\"T_dc5ba_row16_col0\" class=\"data row16 col0\" >Fold Number</td>\n",
       "      <td id=\"T_dc5ba_row16_col1\" class=\"data row16 col1\" >10</td>\n",
       "    </tr>\n",
       "    <tr>\n",
       "      <th id=\"T_dc5ba_level0_row17\" class=\"row_heading level0 row17\" >17</th>\n",
       "      <td id=\"T_dc5ba_row17_col0\" class=\"data row17 col0\" >CPU Jobs</td>\n",
       "      <td id=\"T_dc5ba_row17_col1\" class=\"data row17 col1\" >-1</td>\n",
       "    </tr>\n",
       "    <tr>\n",
       "      <th id=\"T_dc5ba_level0_row18\" class=\"row_heading level0 row18\" >18</th>\n",
       "      <td id=\"T_dc5ba_row18_col0\" class=\"data row18 col0\" >Use GPU</td>\n",
       "      <td id=\"T_dc5ba_row18_col1\" class=\"data row18 col1\" >False</td>\n",
       "    </tr>\n",
       "    <tr>\n",
       "      <th id=\"T_dc5ba_level0_row19\" class=\"row_heading level0 row19\" >19</th>\n",
       "      <td id=\"T_dc5ba_row19_col0\" class=\"data row19 col0\" >Log Experiment</td>\n",
       "      <td id=\"T_dc5ba_row19_col1\" class=\"data row19 col1\" >False</td>\n",
       "    </tr>\n",
       "    <tr>\n",
       "      <th id=\"T_dc5ba_level0_row20\" class=\"row_heading level0 row20\" >20</th>\n",
       "      <td id=\"T_dc5ba_row20_col0\" class=\"data row20 col0\" >Experiment Name</td>\n",
       "      <td id=\"T_dc5ba_row20_col1\" class=\"data row20 col1\" >clf-default-name</td>\n",
       "    </tr>\n",
       "    <tr>\n",
       "      <th id=\"T_dc5ba_level0_row21\" class=\"row_heading level0 row21\" >21</th>\n",
       "      <td id=\"T_dc5ba_row21_col0\" class=\"data row21 col0\" >USI</td>\n",
       "      <td id=\"T_dc5ba_row21_col1\" class=\"data row21 col1\" >633a</td>\n",
       "    </tr>\n",
       "    <tr>\n",
       "      <th id=\"T_dc5ba_level0_row22\" class=\"row_heading level0 row22\" >22</th>\n",
       "      <td id=\"T_dc5ba_row22_col0\" class=\"data row22 col0\" >Imputation Type</td>\n",
       "      <td id=\"T_dc5ba_row22_col1\" class=\"data row22 col1\" >simple</td>\n",
       "    </tr>\n",
       "    <tr>\n",
       "      <th id=\"T_dc5ba_level0_row23\" class=\"row_heading level0 row23\" >23</th>\n",
       "      <td id=\"T_dc5ba_row23_col0\" class=\"data row23 col0\" >Iterative Imputation Iteration</td>\n",
       "      <td id=\"T_dc5ba_row23_col1\" class=\"data row23 col1\" >None</td>\n",
       "    </tr>\n",
       "    <tr>\n",
       "      <th id=\"T_dc5ba_level0_row24\" class=\"row_heading level0 row24\" >24</th>\n",
       "      <td id=\"T_dc5ba_row24_col0\" class=\"data row24 col0\" >Numeric Imputer</td>\n",
       "      <td id=\"T_dc5ba_row24_col1\" class=\"data row24 col1\" >mean</td>\n",
       "    </tr>\n",
       "    <tr>\n",
       "      <th id=\"T_dc5ba_level0_row25\" class=\"row_heading level0 row25\" >25</th>\n",
       "      <td id=\"T_dc5ba_row25_col0\" class=\"data row25 col0\" >Iterative Imputation Numeric Model</td>\n",
       "      <td id=\"T_dc5ba_row25_col1\" class=\"data row25 col1\" >None</td>\n",
       "    </tr>\n",
       "    <tr>\n",
       "      <th id=\"T_dc5ba_level0_row26\" class=\"row_heading level0 row26\" >26</th>\n",
       "      <td id=\"T_dc5ba_row26_col0\" class=\"data row26 col0\" >Categorical Imputer</td>\n",
       "      <td id=\"T_dc5ba_row26_col1\" class=\"data row26 col1\" >constant</td>\n",
       "    </tr>\n",
       "    <tr>\n",
       "      <th id=\"T_dc5ba_level0_row27\" class=\"row_heading level0 row27\" >27</th>\n",
       "      <td id=\"T_dc5ba_row27_col0\" class=\"data row27 col0\" >Iterative Imputation Categorical Model</td>\n",
       "      <td id=\"T_dc5ba_row27_col1\" class=\"data row27 col1\" >None</td>\n",
       "    </tr>\n",
       "    <tr>\n",
       "      <th id=\"T_dc5ba_level0_row28\" class=\"row_heading level0 row28\" >28</th>\n",
       "      <td id=\"T_dc5ba_row28_col0\" class=\"data row28 col0\" >Unknown Categoricals Handling</td>\n",
       "      <td id=\"T_dc5ba_row28_col1\" class=\"data row28 col1\" >least_frequent</td>\n",
       "    </tr>\n",
       "    <tr>\n",
       "      <th id=\"T_dc5ba_level0_row29\" class=\"row_heading level0 row29\" >29</th>\n",
       "      <td id=\"T_dc5ba_row29_col0\" class=\"data row29 col0\" >Normalize</td>\n",
       "      <td id=\"T_dc5ba_row29_col1\" class=\"data row29 col1\" >False</td>\n",
       "    </tr>\n",
       "    <tr>\n",
       "      <th id=\"T_dc5ba_level0_row30\" class=\"row_heading level0 row30\" >30</th>\n",
       "      <td id=\"T_dc5ba_row30_col0\" class=\"data row30 col0\" >Normalize Method</td>\n",
       "      <td id=\"T_dc5ba_row30_col1\" class=\"data row30 col1\" >None</td>\n",
       "    </tr>\n",
       "    <tr>\n",
       "      <th id=\"T_dc5ba_level0_row31\" class=\"row_heading level0 row31\" >31</th>\n",
       "      <td id=\"T_dc5ba_row31_col0\" class=\"data row31 col0\" >Transformation</td>\n",
       "      <td id=\"T_dc5ba_row31_col1\" class=\"data row31 col1\" >False</td>\n",
       "    </tr>\n",
       "    <tr>\n",
       "      <th id=\"T_dc5ba_level0_row32\" class=\"row_heading level0 row32\" >32</th>\n",
       "      <td id=\"T_dc5ba_row32_col0\" class=\"data row32 col0\" >Transformation Method</td>\n",
       "      <td id=\"T_dc5ba_row32_col1\" class=\"data row32 col1\" >None</td>\n",
       "    </tr>\n",
       "    <tr>\n",
       "      <th id=\"T_dc5ba_level0_row33\" class=\"row_heading level0 row33\" >33</th>\n",
       "      <td id=\"T_dc5ba_row33_col0\" class=\"data row33 col0\" >PCA</td>\n",
       "      <td id=\"T_dc5ba_row33_col1\" class=\"data row33 col1\" >False</td>\n",
       "    </tr>\n",
       "    <tr>\n",
       "      <th id=\"T_dc5ba_level0_row34\" class=\"row_heading level0 row34\" >34</th>\n",
       "      <td id=\"T_dc5ba_row34_col0\" class=\"data row34 col0\" >PCA Method</td>\n",
       "      <td id=\"T_dc5ba_row34_col1\" class=\"data row34 col1\" >None</td>\n",
       "    </tr>\n",
       "    <tr>\n",
       "      <th id=\"T_dc5ba_level0_row35\" class=\"row_heading level0 row35\" >35</th>\n",
       "      <td id=\"T_dc5ba_row35_col0\" class=\"data row35 col0\" >PCA Components</td>\n",
       "      <td id=\"T_dc5ba_row35_col1\" class=\"data row35 col1\" >None</td>\n",
       "    </tr>\n",
       "    <tr>\n",
       "      <th id=\"T_dc5ba_level0_row36\" class=\"row_heading level0 row36\" >36</th>\n",
       "      <td id=\"T_dc5ba_row36_col0\" class=\"data row36 col0\" >Ignore Low Variance</td>\n",
       "      <td id=\"T_dc5ba_row36_col1\" class=\"data row36 col1\" >False</td>\n",
       "    </tr>\n",
       "    <tr>\n",
       "      <th id=\"T_dc5ba_level0_row37\" class=\"row_heading level0 row37\" >37</th>\n",
       "      <td id=\"T_dc5ba_row37_col0\" class=\"data row37 col0\" >Combine Rare Levels</td>\n",
       "      <td id=\"T_dc5ba_row37_col1\" class=\"data row37 col1\" >False</td>\n",
       "    </tr>\n",
       "    <tr>\n",
       "      <th id=\"T_dc5ba_level0_row38\" class=\"row_heading level0 row38\" >38</th>\n",
       "      <td id=\"T_dc5ba_row38_col0\" class=\"data row38 col0\" >Rare Level Threshold</td>\n",
       "      <td id=\"T_dc5ba_row38_col1\" class=\"data row38 col1\" >None</td>\n",
       "    </tr>\n",
       "    <tr>\n",
       "      <th id=\"T_dc5ba_level0_row39\" class=\"row_heading level0 row39\" >39</th>\n",
       "      <td id=\"T_dc5ba_row39_col0\" class=\"data row39 col0\" >Numeric Binning</td>\n",
       "      <td id=\"T_dc5ba_row39_col1\" class=\"data row39 col1\" >False</td>\n",
       "    </tr>\n",
       "    <tr>\n",
       "      <th id=\"T_dc5ba_level0_row40\" class=\"row_heading level0 row40\" >40</th>\n",
       "      <td id=\"T_dc5ba_row40_col0\" class=\"data row40 col0\" >Remove Outliers</td>\n",
       "      <td id=\"T_dc5ba_row40_col1\" class=\"data row40 col1\" >False</td>\n",
       "    </tr>\n",
       "    <tr>\n",
       "      <th id=\"T_dc5ba_level0_row41\" class=\"row_heading level0 row41\" >41</th>\n",
       "      <td id=\"T_dc5ba_row41_col0\" class=\"data row41 col0\" >Outliers Threshold</td>\n",
       "      <td id=\"T_dc5ba_row41_col1\" class=\"data row41 col1\" >None</td>\n",
       "    </tr>\n",
       "    <tr>\n",
       "      <th id=\"T_dc5ba_level0_row42\" class=\"row_heading level0 row42\" >42</th>\n",
       "      <td id=\"T_dc5ba_row42_col0\" class=\"data row42 col0\" >Remove Multicollinearity</td>\n",
       "      <td id=\"T_dc5ba_row42_col1\" class=\"data row42 col1\" >False</td>\n",
       "    </tr>\n",
       "    <tr>\n",
       "      <th id=\"T_dc5ba_level0_row43\" class=\"row_heading level0 row43\" >43</th>\n",
       "      <td id=\"T_dc5ba_row43_col0\" class=\"data row43 col0\" >Multicollinearity Threshold</td>\n",
       "      <td id=\"T_dc5ba_row43_col1\" class=\"data row43 col1\" >None</td>\n",
       "    </tr>\n",
       "    <tr>\n",
       "      <th id=\"T_dc5ba_level0_row44\" class=\"row_heading level0 row44\" >44</th>\n",
       "      <td id=\"T_dc5ba_row44_col0\" class=\"data row44 col0\" >Remove Perfect Collinearity</td>\n",
       "      <td id=\"T_dc5ba_row44_col1\" class=\"data row44 col1\" >True</td>\n",
       "    </tr>\n",
       "    <tr>\n",
       "      <th id=\"T_dc5ba_level0_row45\" class=\"row_heading level0 row45\" >45</th>\n",
       "      <td id=\"T_dc5ba_row45_col0\" class=\"data row45 col0\" >Clustering</td>\n",
       "      <td id=\"T_dc5ba_row45_col1\" class=\"data row45 col1\" >False</td>\n",
       "    </tr>\n",
       "    <tr>\n",
       "      <th id=\"T_dc5ba_level0_row46\" class=\"row_heading level0 row46\" >46</th>\n",
       "      <td id=\"T_dc5ba_row46_col0\" class=\"data row46 col0\" >Clustering Iteration</td>\n",
       "      <td id=\"T_dc5ba_row46_col1\" class=\"data row46 col1\" >None</td>\n",
       "    </tr>\n",
       "    <tr>\n",
       "      <th id=\"T_dc5ba_level0_row47\" class=\"row_heading level0 row47\" >47</th>\n",
       "      <td id=\"T_dc5ba_row47_col0\" class=\"data row47 col0\" >Polynomial Features</td>\n",
       "      <td id=\"T_dc5ba_row47_col1\" class=\"data row47 col1\" >False</td>\n",
       "    </tr>\n",
       "    <tr>\n",
       "      <th id=\"T_dc5ba_level0_row48\" class=\"row_heading level0 row48\" >48</th>\n",
       "      <td id=\"T_dc5ba_row48_col0\" class=\"data row48 col0\" >Polynomial Degree</td>\n",
       "      <td id=\"T_dc5ba_row48_col1\" class=\"data row48 col1\" >None</td>\n",
       "    </tr>\n",
       "    <tr>\n",
       "      <th id=\"T_dc5ba_level0_row49\" class=\"row_heading level0 row49\" >49</th>\n",
       "      <td id=\"T_dc5ba_row49_col0\" class=\"data row49 col0\" >Trignometry Features</td>\n",
       "      <td id=\"T_dc5ba_row49_col1\" class=\"data row49 col1\" >False</td>\n",
       "    </tr>\n",
       "    <tr>\n",
       "      <th id=\"T_dc5ba_level0_row50\" class=\"row_heading level0 row50\" >50</th>\n",
       "      <td id=\"T_dc5ba_row50_col0\" class=\"data row50 col0\" >Polynomial Threshold</td>\n",
       "      <td id=\"T_dc5ba_row50_col1\" class=\"data row50 col1\" >None</td>\n",
       "    </tr>\n",
       "    <tr>\n",
       "      <th id=\"T_dc5ba_level0_row51\" class=\"row_heading level0 row51\" >51</th>\n",
       "      <td id=\"T_dc5ba_row51_col0\" class=\"data row51 col0\" >Group Features</td>\n",
       "      <td id=\"T_dc5ba_row51_col1\" class=\"data row51 col1\" >False</td>\n",
       "    </tr>\n",
       "    <tr>\n",
       "      <th id=\"T_dc5ba_level0_row52\" class=\"row_heading level0 row52\" >52</th>\n",
       "      <td id=\"T_dc5ba_row52_col0\" class=\"data row52 col0\" >Feature Selection</td>\n",
       "      <td id=\"T_dc5ba_row52_col1\" class=\"data row52 col1\" >False</td>\n",
       "    </tr>\n",
       "    <tr>\n",
       "      <th id=\"T_dc5ba_level0_row53\" class=\"row_heading level0 row53\" >53</th>\n",
       "      <td id=\"T_dc5ba_row53_col0\" class=\"data row53 col0\" >Feature Selection Method</td>\n",
       "      <td id=\"T_dc5ba_row53_col1\" class=\"data row53 col1\" >classic</td>\n",
       "    </tr>\n",
       "    <tr>\n",
       "      <th id=\"T_dc5ba_level0_row54\" class=\"row_heading level0 row54\" >54</th>\n",
       "      <td id=\"T_dc5ba_row54_col0\" class=\"data row54 col0\" >Features Selection Threshold</td>\n",
       "      <td id=\"T_dc5ba_row54_col1\" class=\"data row54 col1\" >None</td>\n",
       "    </tr>\n",
       "    <tr>\n",
       "      <th id=\"T_dc5ba_level0_row55\" class=\"row_heading level0 row55\" >55</th>\n",
       "      <td id=\"T_dc5ba_row55_col0\" class=\"data row55 col0\" >Feature Interaction</td>\n",
       "      <td id=\"T_dc5ba_row55_col1\" class=\"data row55 col1\" >False</td>\n",
       "    </tr>\n",
       "    <tr>\n",
       "      <th id=\"T_dc5ba_level0_row56\" class=\"row_heading level0 row56\" >56</th>\n",
       "      <td id=\"T_dc5ba_row56_col0\" class=\"data row56 col0\" >Feature Ratio</td>\n",
       "      <td id=\"T_dc5ba_row56_col1\" class=\"data row56 col1\" >False</td>\n",
       "    </tr>\n",
       "    <tr>\n",
       "      <th id=\"T_dc5ba_level0_row57\" class=\"row_heading level0 row57\" >57</th>\n",
       "      <td id=\"T_dc5ba_row57_col0\" class=\"data row57 col0\" >Interaction Threshold</td>\n",
       "      <td id=\"T_dc5ba_row57_col1\" class=\"data row57 col1\" >None</td>\n",
       "    </tr>\n",
       "    <tr>\n",
       "      <th id=\"T_dc5ba_level0_row58\" class=\"row_heading level0 row58\" >58</th>\n",
       "      <td id=\"T_dc5ba_row58_col0\" class=\"data row58 col0\" >Fix Imbalance</td>\n",
       "      <td id=\"T_dc5ba_row58_col1\" class=\"data row58 col1\" >False</td>\n",
       "    </tr>\n",
       "    <tr>\n",
       "      <th id=\"T_dc5ba_level0_row59\" class=\"row_heading level0 row59\" >59</th>\n",
       "      <td id=\"T_dc5ba_row59_col0\" class=\"data row59 col0\" >Fix Imbalance Method</td>\n",
       "      <td id=\"T_dc5ba_row59_col1\" class=\"data row59 col1\" >SMOTE</td>\n",
       "    </tr>\n",
       "  </tbody>\n",
       "</table>\n"
      ],
      "text/plain": [
       "<pandas.io.formats.style.Styler at 0x246d24b5b80>"
      ]
     },
     "metadata": {},
     "output_type": "display_data"
    }
   ],
   "source": [
    "import pycaret\n",
    "#import classification module\n",
    "from pycaret.classification import *\n",
    "#intialize the setup\n",
    "exp_cls = setup(df, target = 'class')"
   ]
  },
  {
   "cell_type": "code",
   "execution_count": 46,
   "id": "9c324e6b",
   "metadata": {
    "colab": {
     "base_uri": "https://localhost:8080/",
     "height": 593,
     "referenced_widgets": [
      "e72386316961484c830367c0fc4762d8",
      "52231c2138dd49f69ca16dcd329c2fca",
      "ae84f30c1fd04327bcaf9096f92021c3"
     ]
    },
    "executionInfo": {
     "elapsed": 22056,
     "status": "ok",
     "timestamp": 1650461636308,
     "user": {
      "displayName": "David Pratap",
      "userId": "09405790748084406328"
     },
     "user_tz": -330
    },
    "id": "9c324e6b",
    "outputId": "1a70a32e-c881-43b5-9d12-ba95e1d469fe"
   },
   "outputs": [
    {
     "data": {
      "text/html": [
       "<style type=\"text/css\">\n",
       "#T_e69e5 th {\n",
       "  text-align: left;\n",
       "}\n",
       "#T_e69e5_row0_col0, #T_e69e5_row1_col0, #T_e69e5_row2_col0, #T_e69e5_row3_col0, #T_e69e5_row4_col0, #T_e69e5_row5_col0, #T_e69e5_row6_col0, #T_e69e5_row6_col1, #T_e69e5_row6_col3, #T_e69e5_row6_col4, #T_e69e5_row6_col5, #T_e69e5_row6_col6, #T_e69e5_row6_col7, #T_e69e5_row7_col0, #T_e69e5_row7_col1, #T_e69e5_row7_col3, #T_e69e5_row7_col4, #T_e69e5_row7_col5, #T_e69e5_row7_col6, #T_e69e5_row7_col7, #T_e69e5_row8_col0, #T_e69e5_row8_col1, #T_e69e5_row8_col3, #T_e69e5_row8_col4, #T_e69e5_row8_col5, #T_e69e5_row8_col6, #T_e69e5_row8_col7, #T_e69e5_row9_col0, #T_e69e5_row9_col1, #T_e69e5_row9_col3, #T_e69e5_row9_col4, #T_e69e5_row9_col5, #T_e69e5_row9_col6, #T_e69e5_row9_col7, #T_e69e5_row10_col0, #T_e69e5_row10_col1, #T_e69e5_row10_col3, #T_e69e5_row10_col4, #T_e69e5_row10_col5, #T_e69e5_row10_col6, #T_e69e5_row10_col7, #T_e69e5_row11_col0, #T_e69e5_row11_col1, #T_e69e5_row11_col3, #T_e69e5_row11_col4, #T_e69e5_row11_col5, #T_e69e5_row11_col6, #T_e69e5_row11_col7, #T_e69e5_row12_col0, #T_e69e5_row12_col1, #T_e69e5_row12_col2, #T_e69e5_row12_col3, #T_e69e5_row12_col4, #T_e69e5_row12_col5, #T_e69e5_row12_col6, #T_e69e5_row12_col7, #T_e69e5_row13_col0, #T_e69e5_row13_col1, #T_e69e5_row13_col2, #T_e69e5_row13_col3, #T_e69e5_row13_col4, #T_e69e5_row13_col5, #T_e69e5_row13_col6, #T_e69e5_row13_col7, #T_e69e5_row14_col0, #T_e69e5_row14_col1, #T_e69e5_row14_col2, #T_e69e5_row14_col3, #T_e69e5_row14_col4, #T_e69e5_row14_col5, #T_e69e5_row14_col6, #T_e69e5_row14_col7 {\n",
       "  text-align: left;\n",
       "}\n",
       "#T_e69e5_row0_col1, #T_e69e5_row0_col2, #T_e69e5_row0_col3, #T_e69e5_row0_col4, #T_e69e5_row0_col5, #T_e69e5_row0_col6, #T_e69e5_row0_col7, #T_e69e5_row1_col1, #T_e69e5_row1_col2, #T_e69e5_row1_col3, #T_e69e5_row1_col4, #T_e69e5_row1_col5, #T_e69e5_row1_col6, #T_e69e5_row1_col7, #T_e69e5_row2_col1, #T_e69e5_row2_col2, #T_e69e5_row2_col3, #T_e69e5_row2_col4, #T_e69e5_row2_col5, #T_e69e5_row2_col6, #T_e69e5_row2_col7, #T_e69e5_row3_col1, #T_e69e5_row3_col2, #T_e69e5_row3_col3, #T_e69e5_row3_col4, #T_e69e5_row3_col5, #T_e69e5_row3_col6, #T_e69e5_row3_col7, #T_e69e5_row4_col1, #T_e69e5_row4_col2, #T_e69e5_row4_col3, #T_e69e5_row4_col4, #T_e69e5_row4_col5, #T_e69e5_row4_col6, #T_e69e5_row4_col7, #T_e69e5_row5_col1, #T_e69e5_row5_col2, #T_e69e5_row5_col3, #T_e69e5_row5_col4, #T_e69e5_row5_col5, #T_e69e5_row5_col6, #T_e69e5_row5_col7, #T_e69e5_row6_col2, #T_e69e5_row7_col2, #T_e69e5_row8_col2, #T_e69e5_row9_col2, #T_e69e5_row10_col2, #T_e69e5_row11_col2 {\n",
       "  text-align: left;\n",
       "  background-color: yellow;\n",
       "}\n",
       "#T_e69e5_row0_col8, #T_e69e5_row2_col8, #T_e69e5_row3_col8, #T_e69e5_row4_col8, #T_e69e5_row5_col8, #T_e69e5_row6_col8, #T_e69e5_row7_col8, #T_e69e5_row8_col8, #T_e69e5_row9_col8, #T_e69e5_row10_col8, #T_e69e5_row11_col8, #T_e69e5_row12_col8, #T_e69e5_row13_col8 {\n",
       "  text-align: left;\n",
       "  background-color: lightgrey;\n",
       "}\n",
       "#T_e69e5_row1_col8, #T_e69e5_row14_col8 {\n",
       "  text-align: left;\n",
       "  background-color: yellow;\n",
       "  background-color: lightgrey;\n",
       "}\n",
       "</style>\n",
       "<table id=\"T_e69e5\">\n",
       "  <thead>\n",
       "    <tr>\n",
       "      <th class=\"blank level0\" >&nbsp;</th>\n",
       "      <th id=\"T_e69e5_level0_col0\" class=\"col_heading level0 col0\" >Model</th>\n",
       "      <th id=\"T_e69e5_level0_col1\" class=\"col_heading level0 col1\" >Accuracy</th>\n",
       "      <th id=\"T_e69e5_level0_col2\" class=\"col_heading level0 col2\" >AUC</th>\n",
       "      <th id=\"T_e69e5_level0_col3\" class=\"col_heading level0 col3\" >Recall</th>\n",
       "      <th id=\"T_e69e5_level0_col4\" class=\"col_heading level0 col4\" >Prec.</th>\n",
       "      <th id=\"T_e69e5_level0_col5\" class=\"col_heading level0 col5\" >F1</th>\n",
       "      <th id=\"T_e69e5_level0_col6\" class=\"col_heading level0 col6\" >Kappa</th>\n",
       "      <th id=\"T_e69e5_level0_col7\" class=\"col_heading level0 col7\" >MCC</th>\n",
       "      <th id=\"T_e69e5_level0_col8\" class=\"col_heading level0 col8\" >TT (Sec)</th>\n",
       "    </tr>\n",
       "  </thead>\n",
       "  <tbody>\n",
       "    <tr>\n",
       "      <th id=\"T_e69e5_level0_row0\" class=\"row_heading level0 row0\" >knn</th>\n",
       "      <td id=\"T_e69e5_row0_col0\" class=\"data row0 col0\" >K Neighbors Classifier</td>\n",
       "      <td id=\"T_e69e5_row0_col1\" class=\"data row0 col1\" >1.0000</td>\n",
       "      <td id=\"T_e69e5_row0_col2\" class=\"data row0 col2\" >1.0000</td>\n",
       "      <td id=\"T_e69e5_row0_col3\" class=\"data row0 col3\" >1.0000</td>\n",
       "      <td id=\"T_e69e5_row0_col4\" class=\"data row0 col4\" >1.0000</td>\n",
       "      <td id=\"T_e69e5_row0_col5\" class=\"data row0 col5\" >1.0000</td>\n",
       "      <td id=\"T_e69e5_row0_col6\" class=\"data row0 col6\" >1.0000</td>\n",
       "      <td id=\"T_e69e5_row0_col7\" class=\"data row0 col7\" >1.0000</td>\n",
       "      <td id=\"T_e69e5_row0_col8\" class=\"data row0 col8\" >0.0160</td>\n",
       "    </tr>\n",
       "    <tr>\n",
       "      <th id=\"T_e69e5_level0_row1\" class=\"row_heading level0 row1\" >dt</th>\n",
       "      <td id=\"T_e69e5_row1_col0\" class=\"data row1 col0\" >Decision Tree Classifier</td>\n",
       "      <td id=\"T_e69e5_row1_col1\" class=\"data row1 col1\" >1.0000</td>\n",
       "      <td id=\"T_e69e5_row1_col2\" class=\"data row1 col2\" >1.0000</td>\n",
       "      <td id=\"T_e69e5_row1_col3\" class=\"data row1 col3\" >1.0000</td>\n",
       "      <td id=\"T_e69e5_row1_col4\" class=\"data row1 col4\" >1.0000</td>\n",
       "      <td id=\"T_e69e5_row1_col5\" class=\"data row1 col5\" >1.0000</td>\n",
       "      <td id=\"T_e69e5_row1_col6\" class=\"data row1 col6\" >1.0000</td>\n",
       "      <td id=\"T_e69e5_row1_col7\" class=\"data row1 col7\" >1.0000</td>\n",
       "      <td id=\"T_e69e5_row1_col8\" class=\"data row1 col8\" >0.0070</td>\n",
       "    </tr>\n",
       "    <tr>\n",
       "      <th id=\"T_e69e5_level0_row2\" class=\"row_heading level0 row2\" >rf</th>\n",
       "      <td id=\"T_e69e5_row2_col0\" class=\"data row2 col0\" >Random Forest Classifier</td>\n",
       "      <td id=\"T_e69e5_row2_col1\" class=\"data row2 col1\" >1.0000</td>\n",
       "      <td id=\"T_e69e5_row2_col2\" class=\"data row2 col2\" >1.0000</td>\n",
       "      <td id=\"T_e69e5_row2_col3\" class=\"data row2 col3\" >1.0000</td>\n",
       "      <td id=\"T_e69e5_row2_col4\" class=\"data row2 col4\" >1.0000</td>\n",
       "      <td id=\"T_e69e5_row2_col5\" class=\"data row2 col5\" >1.0000</td>\n",
       "      <td id=\"T_e69e5_row2_col6\" class=\"data row2 col6\" >1.0000</td>\n",
       "      <td id=\"T_e69e5_row2_col7\" class=\"data row2 col7\" >1.0000</td>\n",
       "      <td id=\"T_e69e5_row2_col8\" class=\"data row2 col8\" >0.1530</td>\n",
       "    </tr>\n",
       "    <tr>\n",
       "      <th id=\"T_e69e5_level0_row3\" class=\"row_heading level0 row3\" >ada</th>\n",
       "      <td id=\"T_e69e5_row3_col0\" class=\"data row3 col0\" >Ada Boost Classifier</td>\n",
       "      <td id=\"T_e69e5_row3_col1\" class=\"data row3 col1\" >1.0000</td>\n",
       "      <td id=\"T_e69e5_row3_col2\" class=\"data row3 col2\" >1.0000</td>\n",
       "      <td id=\"T_e69e5_row3_col3\" class=\"data row3 col3\" >1.0000</td>\n",
       "      <td id=\"T_e69e5_row3_col4\" class=\"data row3 col4\" >1.0000</td>\n",
       "      <td id=\"T_e69e5_row3_col5\" class=\"data row3 col5\" >1.0000</td>\n",
       "      <td id=\"T_e69e5_row3_col6\" class=\"data row3 col6\" >1.0000</td>\n",
       "      <td id=\"T_e69e5_row3_col7\" class=\"data row3 col7\" >1.0000</td>\n",
       "      <td id=\"T_e69e5_row3_col8\" class=\"data row3 col8\" >0.0640</td>\n",
       "    </tr>\n",
       "    <tr>\n",
       "      <th id=\"T_e69e5_level0_row4\" class=\"row_heading level0 row4\" >xgboost</th>\n",
       "      <td id=\"T_e69e5_row4_col0\" class=\"data row4 col0\" >Extreme Gradient Boosting</td>\n",
       "      <td id=\"T_e69e5_row4_col1\" class=\"data row4 col1\" >1.0000</td>\n",
       "      <td id=\"T_e69e5_row4_col2\" class=\"data row4 col2\" >1.0000</td>\n",
       "      <td id=\"T_e69e5_row4_col3\" class=\"data row4 col3\" >1.0000</td>\n",
       "      <td id=\"T_e69e5_row4_col4\" class=\"data row4 col4\" >1.0000</td>\n",
       "      <td id=\"T_e69e5_row4_col5\" class=\"data row4 col5\" >1.0000</td>\n",
       "      <td id=\"T_e69e5_row4_col6\" class=\"data row4 col6\" >1.0000</td>\n",
       "      <td id=\"T_e69e5_row4_col7\" class=\"data row4 col7\" >1.0000</td>\n",
       "      <td id=\"T_e69e5_row4_col8\" class=\"data row4 col8\" >0.0460</td>\n",
       "    </tr>\n",
       "    <tr>\n",
       "      <th id=\"T_e69e5_level0_row5\" class=\"row_heading level0 row5\" >lightgbm</th>\n",
       "      <td id=\"T_e69e5_row5_col0\" class=\"data row5 col0\" >Light Gradient Boosting Machine</td>\n",
       "      <td id=\"T_e69e5_row5_col1\" class=\"data row5 col1\" >1.0000</td>\n",
       "      <td id=\"T_e69e5_row5_col2\" class=\"data row5 col2\" >1.0000</td>\n",
       "      <td id=\"T_e69e5_row5_col3\" class=\"data row5 col3\" >1.0000</td>\n",
       "      <td id=\"T_e69e5_row5_col4\" class=\"data row5 col4\" >1.0000</td>\n",
       "      <td id=\"T_e69e5_row5_col5\" class=\"data row5 col5\" >1.0000</td>\n",
       "      <td id=\"T_e69e5_row5_col6\" class=\"data row5 col6\" >1.0000</td>\n",
       "      <td id=\"T_e69e5_row5_col7\" class=\"data row5 col7\" >1.0000</td>\n",
       "      <td id=\"T_e69e5_row5_col8\" class=\"data row5 col8\" >0.1780</td>\n",
       "    </tr>\n",
       "    <tr>\n",
       "      <th id=\"T_e69e5_level0_row6\" class=\"row_heading level0 row6\" >lr</th>\n",
       "      <td id=\"T_e69e5_row6_col0\" class=\"data row6 col0\" >Logistic Regression</td>\n",
       "      <td id=\"T_e69e5_row6_col1\" class=\"data row6 col1\" >0.9900</td>\n",
       "      <td id=\"T_e69e5_row6_col2\" class=\"data row6 col2\" >1.0000</td>\n",
       "      <td id=\"T_e69e5_row6_col3\" class=\"data row6 col3\" >0.9889</td>\n",
       "      <td id=\"T_e69e5_row6_col4\" class=\"data row6 col4\" >0.9925</td>\n",
       "      <td id=\"T_e69e5_row6_col5\" class=\"data row6 col5\" >0.9897</td>\n",
       "      <td id=\"T_e69e5_row6_col6\" class=\"data row6 col6\" >0.9848</td>\n",
       "      <td id=\"T_e69e5_row6_col7\" class=\"data row6 col7\" >0.9862</td>\n",
       "      <td id=\"T_e69e5_row6_col8\" class=\"data row6 col8\" >0.8530</td>\n",
       "    </tr>\n",
       "    <tr>\n",
       "      <th id=\"T_e69e5_level0_row7\" class=\"row_heading level0 row7\" >qda</th>\n",
       "      <td id=\"T_e69e5_row7_col0\" class=\"data row7 col0\" >Quadratic Discriminant Analysis</td>\n",
       "      <td id=\"T_e69e5_row7_col1\" class=\"data row7 col1\" >0.9800</td>\n",
       "      <td id=\"T_e69e5_row7_col2\" class=\"data row7 col2\" >1.0000</td>\n",
       "      <td id=\"T_e69e5_row7_col3\" class=\"data row7 col3\" >0.9778</td>\n",
       "      <td id=\"T_e69e5_row7_col4\" class=\"data row7 col4\" >0.9845</td>\n",
       "      <td id=\"T_e69e5_row7_col5\" class=\"data row7 col5\" >0.9793</td>\n",
       "      <td id=\"T_e69e5_row7_col6\" class=\"data row7 col6\" >0.9695</td>\n",
       "      <td id=\"T_e69e5_row7_col7\" class=\"data row7 col7\" >0.9721</td>\n",
       "      <td id=\"T_e69e5_row7_col8\" class=\"data row7 col8\" >0.0100</td>\n",
       "    </tr>\n",
       "    <tr>\n",
       "      <th id=\"T_e69e5_level0_row8\" class=\"row_heading level0 row8\" >et</th>\n",
       "      <td id=\"T_e69e5_row8_col0\" class=\"data row8 col0\" >Extra Trees Classifier</td>\n",
       "      <td id=\"T_e69e5_row8_col1\" class=\"data row8 col1\" >0.9800</td>\n",
       "      <td id=\"T_e69e5_row8_col2\" class=\"data row8 col2\" >1.0000</td>\n",
       "      <td id=\"T_e69e5_row8_col3\" class=\"data row8 col3\" >0.9778</td>\n",
       "      <td id=\"T_e69e5_row8_col4\" class=\"data row8 col4\" >0.9880</td>\n",
       "      <td id=\"T_e69e5_row8_col5\" class=\"data row8 col5\" >0.9775</td>\n",
       "      <td id=\"T_e69e5_row8_col6\" class=\"data row8 col6\" >0.9697</td>\n",
       "      <td id=\"T_e69e5_row8_col7\" class=\"data row8 col7\" >0.9743</td>\n",
       "      <td id=\"T_e69e5_row8_col8\" class=\"data row8 col8\" >0.1190</td>\n",
       "    </tr>\n",
       "    <tr>\n",
       "      <th id=\"T_e69e5_level0_row9\" class=\"row_heading level0 row9\" >nb</th>\n",
       "      <td id=\"T_e69e5_row9_col0\" class=\"data row9 col0\" >Naive Bayes</td>\n",
       "      <td id=\"T_e69e5_row9_col1\" class=\"data row9 col1\" >0.9709</td>\n",
       "      <td id=\"T_e69e5_row9_col2\" class=\"data row9 col2\" >1.0000</td>\n",
       "      <td id=\"T_e69e5_row9_col3\" class=\"data row9 col3\" >0.9694</td>\n",
       "      <td id=\"T_e69e5_row9_col4\" class=\"data row9 col4\" >0.9812</td>\n",
       "      <td id=\"T_e69e5_row9_col5\" class=\"data row9 col5\" >0.9684</td>\n",
       "      <td id=\"T_e69e5_row9_col6\" class=\"data row9 col6\" >0.9561</td>\n",
       "      <td id=\"T_e69e5_row9_col7\" class=\"data row9 col7\" >0.9618</td>\n",
       "      <td id=\"T_e69e5_row9_col8\" class=\"data row9 col8\" >0.0080</td>\n",
       "    </tr>\n",
       "    <tr>\n",
       "      <th id=\"T_e69e5_level0_row10\" class=\"row_heading level0 row10\" >gbc</th>\n",
       "      <td id=\"T_e69e5_row10_col0\" class=\"data row10 col0\" >Gradient Boosting Classifier</td>\n",
       "      <td id=\"T_e69e5_row10_col1\" class=\"data row10 col1\" >0.9700</td>\n",
       "      <td id=\"T_e69e5_row10_col2\" class=\"data row10 col2\" >1.0000</td>\n",
       "      <td id=\"T_e69e5_row10_col3\" class=\"data row10 col3\" >0.9667</td>\n",
       "      <td id=\"T_e69e5_row10_col4\" class=\"data row10 col4\" >0.9550</td>\n",
       "      <td id=\"T_e69e5_row10_col5\" class=\"data row10 col5\" >0.9600</td>\n",
       "      <td id=\"T_e69e5_row10_col6\" class=\"data row10 col6\" >0.9545</td>\n",
       "      <td id=\"T_e69e5_row10_col7\" class=\"data row10 col7\" >0.9640</td>\n",
       "      <td id=\"T_e69e5_row10_col8\" class=\"data row10 col8\" >0.1190</td>\n",
       "    </tr>\n",
       "    <tr>\n",
       "      <th id=\"T_e69e5_level0_row11\" class=\"row_heading level0 row11\" >lda</th>\n",
       "      <td id=\"T_e69e5_row11_col0\" class=\"data row11 col0\" >Linear Discriminant Analysis</td>\n",
       "      <td id=\"T_e69e5_row11_col1\" class=\"data row11 col1\" >0.9700</td>\n",
       "      <td id=\"T_e69e5_row11_col2\" class=\"data row11 col2\" >1.0000</td>\n",
       "      <td id=\"T_e69e5_row11_col3\" class=\"data row11 col3\" >0.9667</td>\n",
       "      <td id=\"T_e69e5_row11_col4\" class=\"data row11 col4\" >0.9550</td>\n",
       "      <td id=\"T_e69e5_row11_col5\" class=\"data row11 col5\" >0.9600</td>\n",
       "      <td id=\"T_e69e5_row11_col6\" class=\"data row11 col6\" >0.9545</td>\n",
       "      <td id=\"T_e69e5_row11_col7\" class=\"data row11 col7\" >0.9640</td>\n",
       "      <td id=\"T_e69e5_row11_col8\" class=\"data row11 col8\" >0.0090</td>\n",
       "    </tr>\n",
       "    <tr>\n",
       "      <th id=\"T_e69e5_level0_row12\" class=\"row_heading level0 row12\" >ridge</th>\n",
       "      <td id=\"T_e69e5_row12_col0\" class=\"data row12 col0\" >Ridge Classifier</td>\n",
       "      <td id=\"T_e69e5_row12_col1\" class=\"data row12 col1\" >0.8482</td>\n",
       "      <td id=\"T_e69e5_row12_col2\" class=\"data row12 col2\" >0.0000</td>\n",
       "      <td id=\"T_e69e5_row12_col3\" class=\"data row12 col3\" >0.8389</td>\n",
       "      <td id=\"T_e69e5_row12_col4\" class=\"data row12 col4\" >0.8484</td>\n",
       "      <td id=\"T_e69e5_row12_col5\" class=\"data row12 col5\" >0.8249</td>\n",
       "      <td id=\"T_e69e5_row12_col6\" class=\"data row12 col6\" >0.7714</td>\n",
       "      <td id=\"T_e69e5_row12_col7\" class=\"data row12 col7\" >0.8015</td>\n",
       "      <td id=\"T_e69e5_row12_col8\" class=\"data row12 col8\" >0.0080</td>\n",
       "    </tr>\n",
       "    <tr>\n",
       "      <th id=\"T_e69e5_level0_row13\" class=\"row_heading level0 row13\" >svm</th>\n",
       "      <td id=\"T_e69e5_row13_col0\" class=\"data row13 col0\" >SVM - Linear Kernel</td>\n",
       "      <td id=\"T_e69e5_row13_col1\" class=\"data row13 col1\" >0.7973</td>\n",
       "      <td id=\"T_e69e5_row13_col2\" class=\"data row13 col2\" >0.0000</td>\n",
       "      <td id=\"T_e69e5_row13_col3\" class=\"data row13 col3\" >0.7889</td>\n",
       "      <td id=\"T_e69e5_row13_col4\" class=\"data row13 col4\" >0.7625</td>\n",
       "      <td id=\"T_e69e5_row13_col5\" class=\"data row13 col5\" >0.7494</td>\n",
       "      <td id=\"T_e69e5_row13_col6\" class=\"data row13 col6\" >0.6928</td>\n",
       "      <td id=\"T_e69e5_row13_col7\" class=\"data row13 col7\" >0.7405</td>\n",
       "      <td id=\"T_e69e5_row13_col8\" class=\"data row13 col8\" >0.0120</td>\n",
       "    </tr>\n",
       "    <tr>\n",
       "      <th id=\"T_e69e5_level0_row14\" class=\"row_heading level0 row14\" >dummy</th>\n",
       "      <td id=\"T_e69e5_row14_col0\" class=\"data row14 col0\" >Dummy Classifier</td>\n",
       "      <td id=\"T_e69e5_row14_col1\" class=\"data row14 col1\" >0.3573</td>\n",
       "      <td id=\"T_e69e5_row14_col2\" class=\"data row14 col2\" >0.5000</td>\n",
       "      <td id=\"T_e69e5_row14_col3\" class=\"data row14 col3\" >0.3333</td>\n",
       "      <td id=\"T_e69e5_row14_col4\" class=\"data row14 col4\" >0.1303</td>\n",
       "      <td id=\"T_e69e5_row14_col5\" class=\"data row14 col5\" >0.1903</td>\n",
       "      <td id=\"T_e69e5_row14_col6\" class=\"data row14 col6\" >0.0000</td>\n",
       "      <td id=\"T_e69e5_row14_col7\" class=\"data row14 col7\" >0.0000</td>\n",
       "      <td id=\"T_e69e5_row14_col8\" class=\"data row14 col8\" >0.0070</td>\n",
       "    </tr>\n",
       "  </tbody>\n",
       "</table>\n"
      ],
      "text/plain": [
       "<pandas.io.formats.style.Styler at 0x246d70b58e0>"
      ]
     },
     "metadata": {},
     "output_type": "display_data"
    },
    {
     "data": {
      "text/plain": [
       "KNeighborsClassifier(algorithm='auto', leaf_size=30, metric='minkowski',\n",
       "                     metric_params=None, n_jobs=-1, n_neighbors=5, p=2,\n",
       "                     weights='uniform')"
      ]
     },
     "execution_count": 46,
     "metadata": {},
     "output_type": "execute_result"
    }
   ],
   "source": [
    "# compare different regression models\n",
    "compare_models()"
   ]
  },
  {
   "cell_type": "code",
   "execution_count": 47,
   "id": "986ae288",
   "metadata": {
    "id": "986ae288",
    "outputId": "d566c930-4bca-4fb8-f655-2aa6167dd611"
   },
   "outputs": [
    {
     "data": {
      "text/html": [
       "<style type=\"text/css\">\n",
       "#T_58cce_row10_col0, #T_58cce_row10_col1, #T_58cce_row10_col2, #T_58cce_row10_col3, #T_58cce_row10_col4, #T_58cce_row10_col5, #T_58cce_row10_col6 {\n",
       "  background: yellow;\n",
       "}\n",
       "</style>\n",
       "<table id=\"T_58cce\">\n",
       "  <thead>\n",
       "    <tr>\n",
       "      <th class=\"blank level0\" >&nbsp;</th>\n",
       "      <th id=\"T_58cce_level0_col0\" class=\"col_heading level0 col0\" >Accuracy</th>\n",
       "      <th id=\"T_58cce_level0_col1\" class=\"col_heading level0 col1\" >AUC</th>\n",
       "      <th id=\"T_58cce_level0_col2\" class=\"col_heading level0 col2\" >Recall</th>\n",
       "      <th id=\"T_58cce_level0_col3\" class=\"col_heading level0 col3\" >Prec.</th>\n",
       "      <th id=\"T_58cce_level0_col4\" class=\"col_heading level0 col4\" >F1</th>\n",
       "      <th id=\"T_58cce_level0_col5\" class=\"col_heading level0 col5\" >Kappa</th>\n",
       "      <th id=\"T_58cce_level0_col6\" class=\"col_heading level0 col6\" >MCC</th>\n",
       "    </tr>\n",
       "    <tr>\n",
       "      <th class=\"index_name level0\" >Fold</th>\n",
       "      <th class=\"blank col0\" >&nbsp;</th>\n",
       "      <th class=\"blank col1\" >&nbsp;</th>\n",
       "      <th class=\"blank col2\" >&nbsp;</th>\n",
       "      <th class=\"blank col3\" >&nbsp;</th>\n",
       "      <th class=\"blank col4\" >&nbsp;</th>\n",
       "      <th class=\"blank col5\" >&nbsp;</th>\n",
       "      <th class=\"blank col6\" >&nbsp;</th>\n",
       "    </tr>\n",
       "  </thead>\n",
       "  <tbody>\n",
       "    <tr>\n",
       "      <th id=\"T_58cce_level0_row0\" class=\"row_heading level0 row0\" >0</th>\n",
       "      <td id=\"T_58cce_row0_col0\" class=\"data row0 col0\" >1.0000</td>\n",
       "      <td id=\"T_58cce_row0_col1\" class=\"data row0 col1\" >1.0000</td>\n",
       "      <td id=\"T_58cce_row0_col2\" class=\"data row0 col2\" >1.0000</td>\n",
       "      <td id=\"T_58cce_row0_col3\" class=\"data row0 col3\" >1.0000</td>\n",
       "      <td id=\"T_58cce_row0_col4\" class=\"data row0 col4\" >1.0000</td>\n",
       "      <td id=\"T_58cce_row0_col5\" class=\"data row0 col5\" >1.0000</td>\n",
       "      <td id=\"T_58cce_row0_col6\" class=\"data row0 col6\" >1.0000</td>\n",
       "    </tr>\n",
       "    <tr>\n",
       "      <th id=\"T_58cce_level0_row1\" class=\"row_heading level0 row1\" >1</th>\n",
       "      <td id=\"T_58cce_row1_col0\" class=\"data row1 col0\" >1.0000</td>\n",
       "      <td id=\"T_58cce_row1_col1\" class=\"data row1 col1\" >1.0000</td>\n",
       "      <td id=\"T_58cce_row1_col2\" class=\"data row1 col2\" >1.0000</td>\n",
       "      <td id=\"T_58cce_row1_col3\" class=\"data row1 col3\" >1.0000</td>\n",
       "      <td id=\"T_58cce_row1_col4\" class=\"data row1 col4\" >1.0000</td>\n",
       "      <td id=\"T_58cce_row1_col5\" class=\"data row1 col5\" >1.0000</td>\n",
       "      <td id=\"T_58cce_row1_col6\" class=\"data row1 col6\" >1.0000</td>\n",
       "    </tr>\n",
       "    <tr>\n",
       "      <th id=\"T_58cce_level0_row2\" class=\"row_heading level0 row2\" >2</th>\n",
       "      <td id=\"T_58cce_row2_col0\" class=\"data row2 col0\" >1.0000</td>\n",
       "      <td id=\"T_58cce_row2_col1\" class=\"data row2 col1\" >1.0000</td>\n",
       "      <td id=\"T_58cce_row2_col2\" class=\"data row2 col2\" >1.0000</td>\n",
       "      <td id=\"T_58cce_row2_col3\" class=\"data row2 col3\" >1.0000</td>\n",
       "      <td id=\"T_58cce_row2_col4\" class=\"data row2 col4\" >1.0000</td>\n",
       "      <td id=\"T_58cce_row2_col5\" class=\"data row2 col5\" >1.0000</td>\n",
       "      <td id=\"T_58cce_row2_col6\" class=\"data row2 col6\" >1.0000</td>\n",
       "    </tr>\n",
       "    <tr>\n",
       "      <th id=\"T_58cce_level0_row3\" class=\"row_heading level0 row3\" >3</th>\n",
       "      <td id=\"T_58cce_row3_col0\" class=\"data row3 col0\" >1.0000</td>\n",
       "      <td id=\"T_58cce_row3_col1\" class=\"data row3 col1\" >1.0000</td>\n",
       "      <td id=\"T_58cce_row3_col2\" class=\"data row3 col2\" >1.0000</td>\n",
       "      <td id=\"T_58cce_row3_col3\" class=\"data row3 col3\" >1.0000</td>\n",
       "      <td id=\"T_58cce_row3_col4\" class=\"data row3 col4\" >1.0000</td>\n",
       "      <td id=\"T_58cce_row3_col5\" class=\"data row3 col5\" >1.0000</td>\n",
       "      <td id=\"T_58cce_row3_col6\" class=\"data row3 col6\" >1.0000</td>\n",
       "    </tr>\n",
       "    <tr>\n",
       "      <th id=\"T_58cce_level0_row4\" class=\"row_heading level0 row4\" >4</th>\n",
       "      <td id=\"T_58cce_row4_col0\" class=\"data row4 col0\" >1.0000</td>\n",
       "      <td id=\"T_58cce_row4_col1\" class=\"data row4 col1\" >1.0000</td>\n",
       "      <td id=\"T_58cce_row4_col2\" class=\"data row4 col2\" >1.0000</td>\n",
       "      <td id=\"T_58cce_row4_col3\" class=\"data row4 col3\" >1.0000</td>\n",
       "      <td id=\"T_58cce_row4_col4\" class=\"data row4 col4\" >1.0000</td>\n",
       "      <td id=\"T_58cce_row4_col5\" class=\"data row4 col5\" >1.0000</td>\n",
       "      <td id=\"T_58cce_row4_col6\" class=\"data row4 col6\" >1.0000</td>\n",
       "    </tr>\n",
       "    <tr>\n",
       "      <th id=\"T_58cce_level0_row5\" class=\"row_heading level0 row5\" >5</th>\n",
       "      <td id=\"T_58cce_row5_col0\" class=\"data row5 col0\" >1.0000</td>\n",
       "      <td id=\"T_58cce_row5_col1\" class=\"data row5 col1\" >1.0000</td>\n",
       "      <td id=\"T_58cce_row5_col2\" class=\"data row5 col2\" >1.0000</td>\n",
       "      <td id=\"T_58cce_row5_col3\" class=\"data row5 col3\" >1.0000</td>\n",
       "      <td id=\"T_58cce_row5_col4\" class=\"data row5 col4\" >1.0000</td>\n",
       "      <td id=\"T_58cce_row5_col5\" class=\"data row5 col5\" >1.0000</td>\n",
       "      <td id=\"T_58cce_row5_col6\" class=\"data row5 col6\" >1.0000</td>\n",
       "    </tr>\n",
       "    <tr>\n",
       "      <th id=\"T_58cce_level0_row6\" class=\"row_heading level0 row6\" >6</th>\n",
       "      <td id=\"T_58cce_row6_col0\" class=\"data row6 col0\" >1.0000</td>\n",
       "      <td id=\"T_58cce_row6_col1\" class=\"data row6 col1\" >1.0000</td>\n",
       "      <td id=\"T_58cce_row6_col2\" class=\"data row6 col2\" >1.0000</td>\n",
       "      <td id=\"T_58cce_row6_col3\" class=\"data row6 col3\" >1.0000</td>\n",
       "      <td id=\"T_58cce_row6_col4\" class=\"data row6 col4\" >1.0000</td>\n",
       "      <td id=\"T_58cce_row6_col5\" class=\"data row6 col5\" >1.0000</td>\n",
       "      <td id=\"T_58cce_row6_col6\" class=\"data row6 col6\" >1.0000</td>\n",
       "    </tr>\n",
       "    <tr>\n",
       "      <th id=\"T_58cce_level0_row7\" class=\"row_heading level0 row7\" >7</th>\n",
       "      <td id=\"T_58cce_row7_col0\" class=\"data row7 col0\" >1.0000</td>\n",
       "      <td id=\"T_58cce_row7_col1\" class=\"data row7 col1\" >1.0000</td>\n",
       "      <td id=\"T_58cce_row7_col2\" class=\"data row7 col2\" >1.0000</td>\n",
       "      <td id=\"T_58cce_row7_col3\" class=\"data row7 col3\" >1.0000</td>\n",
       "      <td id=\"T_58cce_row7_col4\" class=\"data row7 col4\" >1.0000</td>\n",
       "      <td id=\"T_58cce_row7_col5\" class=\"data row7 col5\" >1.0000</td>\n",
       "      <td id=\"T_58cce_row7_col6\" class=\"data row7 col6\" >1.0000</td>\n",
       "    </tr>\n",
       "    <tr>\n",
       "      <th id=\"T_58cce_level0_row8\" class=\"row_heading level0 row8\" >8</th>\n",
       "      <td id=\"T_58cce_row8_col0\" class=\"data row8 col0\" >1.0000</td>\n",
       "      <td id=\"T_58cce_row8_col1\" class=\"data row8 col1\" >1.0000</td>\n",
       "      <td id=\"T_58cce_row8_col2\" class=\"data row8 col2\" >1.0000</td>\n",
       "      <td id=\"T_58cce_row8_col3\" class=\"data row8 col3\" >1.0000</td>\n",
       "      <td id=\"T_58cce_row8_col4\" class=\"data row8 col4\" >1.0000</td>\n",
       "      <td id=\"T_58cce_row8_col5\" class=\"data row8 col5\" >1.0000</td>\n",
       "      <td id=\"T_58cce_row8_col6\" class=\"data row8 col6\" >1.0000</td>\n",
       "    </tr>\n",
       "    <tr>\n",
       "      <th id=\"T_58cce_level0_row9\" class=\"row_heading level0 row9\" >9</th>\n",
       "      <td id=\"T_58cce_row9_col0\" class=\"data row9 col0\" >1.0000</td>\n",
       "      <td id=\"T_58cce_row9_col1\" class=\"data row9 col1\" >1.0000</td>\n",
       "      <td id=\"T_58cce_row9_col2\" class=\"data row9 col2\" >1.0000</td>\n",
       "      <td id=\"T_58cce_row9_col3\" class=\"data row9 col3\" >1.0000</td>\n",
       "      <td id=\"T_58cce_row9_col4\" class=\"data row9 col4\" >1.0000</td>\n",
       "      <td id=\"T_58cce_row9_col5\" class=\"data row9 col5\" >1.0000</td>\n",
       "      <td id=\"T_58cce_row9_col6\" class=\"data row9 col6\" >1.0000</td>\n",
       "    </tr>\n",
       "    <tr>\n",
       "      <th id=\"T_58cce_level0_row10\" class=\"row_heading level0 row10\" >Mean</th>\n",
       "      <td id=\"T_58cce_row10_col0\" class=\"data row10 col0\" >1.0000</td>\n",
       "      <td id=\"T_58cce_row10_col1\" class=\"data row10 col1\" >1.0000</td>\n",
       "      <td id=\"T_58cce_row10_col2\" class=\"data row10 col2\" >1.0000</td>\n",
       "      <td id=\"T_58cce_row10_col3\" class=\"data row10 col3\" >1.0000</td>\n",
       "      <td id=\"T_58cce_row10_col4\" class=\"data row10 col4\" >1.0000</td>\n",
       "      <td id=\"T_58cce_row10_col5\" class=\"data row10 col5\" >1.0000</td>\n",
       "      <td id=\"T_58cce_row10_col6\" class=\"data row10 col6\" >1.0000</td>\n",
       "    </tr>\n",
       "    <tr>\n",
       "      <th id=\"T_58cce_level0_row11\" class=\"row_heading level0 row11\" >Std</th>\n",
       "      <td id=\"T_58cce_row11_col0\" class=\"data row11 col0\" >0.0000</td>\n",
       "      <td id=\"T_58cce_row11_col1\" class=\"data row11 col1\" >0.0000</td>\n",
       "      <td id=\"T_58cce_row11_col2\" class=\"data row11 col2\" >0.0000</td>\n",
       "      <td id=\"T_58cce_row11_col3\" class=\"data row11 col3\" >0.0000</td>\n",
       "      <td id=\"T_58cce_row11_col4\" class=\"data row11 col4\" >0.0000</td>\n",
       "      <td id=\"T_58cce_row11_col5\" class=\"data row11 col5\" >0.0000</td>\n",
       "      <td id=\"T_58cce_row11_col6\" class=\"data row11 col6\" >0.0000</td>\n",
       "    </tr>\n",
       "  </tbody>\n",
       "</table>\n"
      ],
      "text/plain": [
       "<pandas.io.formats.style.Styler at 0x246d70a9580>"
      ]
     },
     "metadata": {},
     "output_type": "display_data"
    }
   ],
   "source": [
    "# create a 10 fold cross validation for random forest classifier\n",
    "rf=create_model('rf')"
   ]
  },
  {
   "cell_type": "code",
   "execution_count": 48,
   "id": "7d74b266",
   "metadata": {
    "id": "7d74b266",
    "outputId": "507de999-ed6e-43d5-c258-cd8198684885"
   },
   "outputs": [
    {
     "data": {
      "text/html": [
       "<style type=\"text/css\">\n",
       "#T_0c0d7_row10_col0, #T_0c0d7_row10_col1, #T_0c0d7_row10_col2, #T_0c0d7_row10_col3, #T_0c0d7_row10_col4, #T_0c0d7_row10_col5, #T_0c0d7_row10_col6 {\n",
       "  background: yellow;\n",
       "}\n",
       "</style>\n",
       "<table id=\"T_0c0d7\">\n",
       "  <thead>\n",
       "    <tr>\n",
       "      <th class=\"blank level0\" >&nbsp;</th>\n",
       "      <th id=\"T_0c0d7_level0_col0\" class=\"col_heading level0 col0\" >Accuracy</th>\n",
       "      <th id=\"T_0c0d7_level0_col1\" class=\"col_heading level0 col1\" >AUC</th>\n",
       "      <th id=\"T_0c0d7_level0_col2\" class=\"col_heading level0 col2\" >Recall</th>\n",
       "      <th id=\"T_0c0d7_level0_col3\" class=\"col_heading level0 col3\" >Prec.</th>\n",
       "      <th id=\"T_0c0d7_level0_col4\" class=\"col_heading level0 col4\" >F1</th>\n",
       "      <th id=\"T_0c0d7_level0_col5\" class=\"col_heading level0 col5\" >Kappa</th>\n",
       "      <th id=\"T_0c0d7_level0_col6\" class=\"col_heading level0 col6\" >MCC</th>\n",
       "    </tr>\n",
       "    <tr>\n",
       "      <th class=\"index_name level0\" >Fold</th>\n",
       "      <th class=\"blank col0\" >&nbsp;</th>\n",
       "      <th class=\"blank col1\" >&nbsp;</th>\n",
       "      <th class=\"blank col2\" >&nbsp;</th>\n",
       "      <th class=\"blank col3\" >&nbsp;</th>\n",
       "      <th class=\"blank col4\" >&nbsp;</th>\n",
       "      <th class=\"blank col5\" >&nbsp;</th>\n",
       "      <th class=\"blank col6\" >&nbsp;</th>\n",
       "    </tr>\n",
       "  </thead>\n",
       "  <tbody>\n",
       "    <tr>\n",
       "      <th id=\"T_0c0d7_level0_row0\" class=\"row_heading level0 row0\" >0</th>\n",
       "      <td id=\"T_0c0d7_row0_col0\" class=\"data row0 col0\" >1.0000</td>\n",
       "      <td id=\"T_0c0d7_row0_col1\" class=\"data row0 col1\" >1.0000</td>\n",
       "      <td id=\"T_0c0d7_row0_col2\" class=\"data row0 col2\" >1.0000</td>\n",
       "      <td id=\"T_0c0d7_row0_col3\" class=\"data row0 col3\" >1.0000</td>\n",
       "      <td id=\"T_0c0d7_row0_col4\" class=\"data row0 col4\" >1.0000</td>\n",
       "      <td id=\"T_0c0d7_row0_col5\" class=\"data row0 col5\" >1.0000</td>\n",
       "      <td id=\"T_0c0d7_row0_col6\" class=\"data row0 col6\" >1.0000</td>\n",
       "    </tr>\n",
       "    <tr>\n",
       "      <th id=\"T_0c0d7_level0_row1\" class=\"row_heading level0 row1\" >1</th>\n",
       "      <td id=\"T_0c0d7_row1_col0\" class=\"data row1 col0\" >1.0000</td>\n",
       "      <td id=\"T_0c0d7_row1_col1\" class=\"data row1 col1\" >1.0000</td>\n",
       "      <td id=\"T_0c0d7_row1_col2\" class=\"data row1 col2\" >1.0000</td>\n",
       "      <td id=\"T_0c0d7_row1_col3\" class=\"data row1 col3\" >1.0000</td>\n",
       "      <td id=\"T_0c0d7_row1_col4\" class=\"data row1 col4\" >1.0000</td>\n",
       "      <td id=\"T_0c0d7_row1_col5\" class=\"data row1 col5\" >1.0000</td>\n",
       "      <td id=\"T_0c0d7_row1_col6\" class=\"data row1 col6\" >1.0000</td>\n",
       "    </tr>\n",
       "    <tr>\n",
       "      <th id=\"T_0c0d7_level0_row2\" class=\"row_heading level0 row2\" >2</th>\n",
       "      <td id=\"T_0c0d7_row2_col0\" class=\"data row2 col0\" >1.0000</td>\n",
       "      <td id=\"T_0c0d7_row2_col1\" class=\"data row2 col1\" >1.0000</td>\n",
       "      <td id=\"T_0c0d7_row2_col2\" class=\"data row2 col2\" >1.0000</td>\n",
       "      <td id=\"T_0c0d7_row2_col3\" class=\"data row2 col3\" >1.0000</td>\n",
       "      <td id=\"T_0c0d7_row2_col4\" class=\"data row2 col4\" >1.0000</td>\n",
       "      <td id=\"T_0c0d7_row2_col5\" class=\"data row2 col5\" >1.0000</td>\n",
       "      <td id=\"T_0c0d7_row2_col6\" class=\"data row2 col6\" >1.0000</td>\n",
       "    </tr>\n",
       "    <tr>\n",
       "      <th id=\"T_0c0d7_level0_row3\" class=\"row_heading level0 row3\" >3</th>\n",
       "      <td id=\"T_0c0d7_row3_col0\" class=\"data row3 col0\" >1.0000</td>\n",
       "      <td id=\"T_0c0d7_row3_col1\" class=\"data row3 col1\" >1.0000</td>\n",
       "      <td id=\"T_0c0d7_row3_col2\" class=\"data row3 col2\" >1.0000</td>\n",
       "      <td id=\"T_0c0d7_row3_col3\" class=\"data row3 col3\" >1.0000</td>\n",
       "      <td id=\"T_0c0d7_row3_col4\" class=\"data row3 col4\" >1.0000</td>\n",
       "      <td id=\"T_0c0d7_row3_col5\" class=\"data row3 col5\" >1.0000</td>\n",
       "      <td id=\"T_0c0d7_row3_col6\" class=\"data row3 col6\" >1.0000</td>\n",
       "    </tr>\n",
       "    <tr>\n",
       "      <th id=\"T_0c0d7_level0_row4\" class=\"row_heading level0 row4\" >4</th>\n",
       "      <td id=\"T_0c0d7_row4_col0\" class=\"data row4 col0\" >1.0000</td>\n",
       "      <td id=\"T_0c0d7_row4_col1\" class=\"data row4 col1\" >1.0000</td>\n",
       "      <td id=\"T_0c0d7_row4_col2\" class=\"data row4 col2\" >1.0000</td>\n",
       "      <td id=\"T_0c0d7_row4_col3\" class=\"data row4 col3\" >1.0000</td>\n",
       "      <td id=\"T_0c0d7_row4_col4\" class=\"data row4 col4\" >1.0000</td>\n",
       "      <td id=\"T_0c0d7_row4_col5\" class=\"data row4 col5\" >1.0000</td>\n",
       "      <td id=\"T_0c0d7_row4_col6\" class=\"data row4 col6\" >1.0000</td>\n",
       "    </tr>\n",
       "    <tr>\n",
       "      <th id=\"T_0c0d7_level0_row5\" class=\"row_heading level0 row5\" >5</th>\n",
       "      <td id=\"T_0c0d7_row5_col0\" class=\"data row5 col0\" >1.0000</td>\n",
       "      <td id=\"T_0c0d7_row5_col1\" class=\"data row5 col1\" >1.0000</td>\n",
       "      <td id=\"T_0c0d7_row5_col2\" class=\"data row5 col2\" >1.0000</td>\n",
       "      <td id=\"T_0c0d7_row5_col3\" class=\"data row5 col3\" >1.0000</td>\n",
       "      <td id=\"T_0c0d7_row5_col4\" class=\"data row5 col4\" >1.0000</td>\n",
       "      <td id=\"T_0c0d7_row5_col5\" class=\"data row5 col5\" >1.0000</td>\n",
       "      <td id=\"T_0c0d7_row5_col6\" class=\"data row5 col6\" >1.0000</td>\n",
       "    </tr>\n",
       "    <tr>\n",
       "      <th id=\"T_0c0d7_level0_row6\" class=\"row_heading level0 row6\" >6</th>\n",
       "      <td id=\"T_0c0d7_row6_col0\" class=\"data row6 col0\" >1.0000</td>\n",
       "      <td id=\"T_0c0d7_row6_col1\" class=\"data row6 col1\" >1.0000</td>\n",
       "      <td id=\"T_0c0d7_row6_col2\" class=\"data row6 col2\" >1.0000</td>\n",
       "      <td id=\"T_0c0d7_row6_col3\" class=\"data row6 col3\" >1.0000</td>\n",
       "      <td id=\"T_0c0d7_row6_col4\" class=\"data row6 col4\" >1.0000</td>\n",
       "      <td id=\"T_0c0d7_row6_col5\" class=\"data row6 col5\" >1.0000</td>\n",
       "      <td id=\"T_0c0d7_row6_col6\" class=\"data row6 col6\" >1.0000</td>\n",
       "    </tr>\n",
       "    <tr>\n",
       "      <th id=\"T_0c0d7_level0_row7\" class=\"row_heading level0 row7\" >7</th>\n",
       "      <td id=\"T_0c0d7_row7_col0\" class=\"data row7 col0\" >1.0000</td>\n",
       "      <td id=\"T_0c0d7_row7_col1\" class=\"data row7 col1\" >1.0000</td>\n",
       "      <td id=\"T_0c0d7_row7_col2\" class=\"data row7 col2\" >1.0000</td>\n",
       "      <td id=\"T_0c0d7_row7_col3\" class=\"data row7 col3\" >1.0000</td>\n",
       "      <td id=\"T_0c0d7_row7_col4\" class=\"data row7 col4\" >1.0000</td>\n",
       "      <td id=\"T_0c0d7_row7_col5\" class=\"data row7 col5\" >1.0000</td>\n",
       "      <td id=\"T_0c0d7_row7_col6\" class=\"data row7 col6\" >1.0000</td>\n",
       "    </tr>\n",
       "    <tr>\n",
       "      <th id=\"T_0c0d7_level0_row8\" class=\"row_heading level0 row8\" >8</th>\n",
       "      <td id=\"T_0c0d7_row8_col0\" class=\"data row8 col0\" >1.0000</td>\n",
       "      <td id=\"T_0c0d7_row8_col1\" class=\"data row8 col1\" >1.0000</td>\n",
       "      <td id=\"T_0c0d7_row8_col2\" class=\"data row8 col2\" >1.0000</td>\n",
       "      <td id=\"T_0c0d7_row8_col3\" class=\"data row8 col3\" >1.0000</td>\n",
       "      <td id=\"T_0c0d7_row8_col4\" class=\"data row8 col4\" >1.0000</td>\n",
       "      <td id=\"T_0c0d7_row8_col5\" class=\"data row8 col5\" >1.0000</td>\n",
       "      <td id=\"T_0c0d7_row8_col6\" class=\"data row8 col6\" >1.0000</td>\n",
       "    </tr>\n",
       "    <tr>\n",
       "      <th id=\"T_0c0d7_level0_row9\" class=\"row_heading level0 row9\" >9</th>\n",
       "      <td id=\"T_0c0d7_row9_col0\" class=\"data row9 col0\" >1.0000</td>\n",
       "      <td id=\"T_0c0d7_row9_col1\" class=\"data row9 col1\" >1.0000</td>\n",
       "      <td id=\"T_0c0d7_row9_col2\" class=\"data row9 col2\" >1.0000</td>\n",
       "      <td id=\"T_0c0d7_row9_col3\" class=\"data row9 col3\" >1.0000</td>\n",
       "      <td id=\"T_0c0d7_row9_col4\" class=\"data row9 col4\" >1.0000</td>\n",
       "      <td id=\"T_0c0d7_row9_col5\" class=\"data row9 col5\" >1.0000</td>\n",
       "      <td id=\"T_0c0d7_row9_col6\" class=\"data row9 col6\" >1.0000</td>\n",
       "    </tr>\n",
       "    <tr>\n",
       "      <th id=\"T_0c0d7_level0_row10\" class=\"row_heading level0 row10\" >Mean</th>\n",
       "      <td id=\"T_0c0d7_row10_col0\" class=\"data row10 col0\" >1.0000</td>\n",
       "      <td id=\"T_0c0d7_row10_col1\" class=\"data row10 col1\" >1.0000</td>\n",
       "      <td id=\"T_0c0d7_row10_col2\" class=\"data row10 col2\" >1.0000</td>\n",
       "      <td id=\"T_0c0d7_row10_col3\" class=\"data row10 col3\" >1.0000</td>\n",
       "      <td id=\"T_0c0d7_row10_col4\" class=\"data row10 col4\" >1.0000</td>\n",
       "      <td id=\"T_0c0d7_row10_col5\" class=\"data row10 col5\" >1.0000</td>\n",
       "      <td id=\"T_0c0d7_row10_col6\" class=\"data row10 col6\" >1.0000</td>\n",
       "    </tr>\n",
       "    <tr>\n",
       "      <th id=\"T_0c0d7_level0_row11\" class=\"row_heading level0 row11\" >Std</th>\n",
       "      <td id=\"T_0c0d7_row11_col0\" class=\"data row11 col0\" >0.0000</td>\n",
       "      <td id=\"T_0c0d7_row11_col1\" class=\"data row11 col1\" >0.0000</td>\n",
       "      <td id=\"T_0c0d7_row11_col2\" class=\"data row11 col2\" >0.0000</td>\n",
       "      <td id=\"T_0c0d7_row11_col3\" class=\"data row11 col3\" >0.0000</td>\n",
       "      <td id=\"T_0c0d7_row11_col4\" class=\"data row11 col4\" >0.0000</td>\n",
       "      <td id=\"T_0c0d7_row11_col5\" class=\"data row11 col5\" >0.0000</td>\n",
       "      <td id=\"T_0c0d7_row11_col6\" class=\"data row11 col6\" >0.0000</td>\n",
       "    </tr>\n",
       "  </tbody>\n",
       "</table>\n"
      ],
      "text/plain": [
       "<pandas.io.formats.style.Styler at 0x246d6f90ca0>"
      ]
     },
     "metadata": {},
     "output_type": "display_data"
    }
   ],
   "source": [
    "# tune the model\n",
    "tuned_rf=tune_model(rf)"
   ]
  },
  {
   "cell_type": "code",
   "execution_count": 49,
   "id": "6f16933b",
   "metadata": {
    "id": "6f16933b",
    "outputId": "71f81782-fb39-4b14-d183-a9c864fc5937"
   },
   "outputs": [
    {
     "data": {
      "image/png": "[encoded data removed]",
      "text/plain": [
       "<Figure size 800x500 with 1 Axes>"
      ]
     },
     "metadata": {},
     "output_type": "display_data"
    }
   ],
   "source": [
    "# interpret the model\n",
    "plot_model(tuned_rf, plot='feature')"
   ]
  },
  {
   "cell_type": "code",
   "execution_count": 50,
   "id": "41fc4ef5",
   "metadata": {
    "id": "41fc4ef5",
    "outputId": "05639c32-201c-4280-f193-bfce581dd050"
   },
   "outputs": [
    {
     "name": "stdout",
     "output_type": "stream",
     "text": [
      "Transformation Pipeline and Model Successfully Saved\n"
     ]
    },
    {
     "data": {
      "text/plain": [
       "(Pipeline(memory=None,\n",
       "          steps=[('dtypes',\n",
       "                  DataTypes_Auto_infer(categorical_features=[],\n",
       "                                       display_types=True, features_todrop=[],\n",
       "                                       id_columns=[],\n",
       "                                       ml_usecase='classification',\n",
       "                                       numerical_features=[], target='class',\n",
       "                                       time_features=[])),\n",
       "                 ('imputer',\n",
       "                  Simple_Imputer(categorical_strategy='not_available',\n",
       "                                 fill_value_categorical=None,\n",
       "                                 fill_value_numerical=None,\n",
       "                                 numeric_strate...\n",
       "                  RandomForestClassifier(bootstrap=True, ccp_alpha=0.0,\n",
       "                                         class_weight='balanced_subsample',\n",
       "                                         criterion='entropy', max_depth=8,\n",
       "                                         max_features='sqrt',\n",
       "                                         max_leaf_nodes=None, max_samples=None,\n",
       "                                         min_impurity_decrease=0.005,\n",
       "                                         min_impurity_split=None,\n",
       "                                         min_samples_leaf=3, min_samples_split=7,\n",
       "                                         min_weight_fraction_leaf=0.0,\n",
       "                                         n_estimators=290, n_jobs=-1,\n",
       "                                         oob_score=False, random_state=3079,\n",
       "                                         verbose=0, warm_start=False)]],\n",
       "          verbose=False),\n",
       " 'Final_model.pkl')"
      ]
     },
     "execution_count": 50,
     "metadata": {},
     "output_type": "execute_result"
    }
   ],
   "source": [
    "# save the model\n",
    "save_model(tuned_rf, 'Final_model')"
   ]
  },
  {
   "cell_type": "markdown",
   "id": "c726fff5",
   "metadata": {
    "id": "c726fff5"
   },
   "source": [
    "# Deployment in Streamlit"
   ]
  },
  {
   "cell_type": "markdown",
   "id": "33c6d715",
   "metadata": {
    "id": "33c6d715"
   },
   "source": [
    "**Note**: \n",
    "1. When you run the code below this will create a **app.py** file in your working directory\n",
    "2. Use **python --version** command in anaconda command prompt to check the version of the python insatlled \n",
    "3. Make sure it is **Python 3.8 or Python 3.7**\n",
    "4. If it is different create a new virual environment ( say venv) in anaconda using **Python 3.8**\n",
    "5. From the anaconda command prompt of this new virtual environment cd to the working directory and run the command **streamlit run app.py**"
   ]
  },
  {
   "cell_type": "code",
   "execution_count": 51,
   "id": "01d5908c",
   "metadata": {
    "id": "01d5908c",
    "outputId": "7e09df51-6e6d-475c-d5f7-8f7d314baa19"
   },
   "outputs": [
    {
     "name": "stdout",
     "output_type": "stream",
     "text": [
      "Overwriting app.py\n"
     ]
    }
   ],
   "source": [
    "%%writefile app.py\n",
    "import pandas as pd\n",
    "import streamlit as st\n",
    "from pycaret.classification import load_model, predict_model\n",
    "\n",
    "#STEP1 : IMPORT THE TRAINED MODEL PIPELINE\n",
    "# import the trained model\n",
    "model=load_model('Final_model')\n",
    "\n",
    "\n",
    "# STEP2: GET NEW DATA FOR PREDICTION FROM THE FRONT END\n",
    "st.title(\"App to predict the flower species\")\n",
    "sepal_length=st.slider('sepal length (cm)', 2.00, 8.00)\n",
    "sepal_width=st.slider('sepal width (cm)',2.00, 4.50)\n",
    "petal_length=st.slider('petal length (cm)', 1.00, 7.00)\n",
    "petal_width=st.slider('petal width (cm)',0.00, 2.50)\n",
    "\n",
    "data={\n",
    "    'sepal length (cm)': sepal_length,\n",
    "    'sepal width (cm)': sepal_width,\n",
    "    'petal length (cm)': petal_length,\n",
    "    'petal width (cm)':petal_width\n",
    "}\n",
    "\n",
    "input_data=pd.DataFrame([data])\n",
    "#input_data=str(input_data)\n",
    "\n",
    "# STEP3 : GET THE PREDICTION AND DISPLAY IT\n",
    "if st.button(\"Predict\"):\n",
    "    prediction=predict_model(model, input_data)\n",
    "    st.success(\"The predicted species of the flower is as below\")\n",
    "    prediction['Label'][0]"
   ]
  },
  {
   "cell_type": "markdown",
   "id": "740155bb",
   "metadata": {},
   "source": [
    "Note: To run this app locally:\n",
    "1. Open a new Anaconda Prompt \n",
    "2. Activate the virual environment by typing activate venv\n",
    "3. pip install --pre pycaret\n",
    "4. pip install streamlit --upgrade\n",
    "5. cd to the current directory where app.py exists\n",
    "6. Type the code streamlit run app.py"
   ]
  },
  {
   "cell_type": "markdown",
   "id": "69d34d07",
   "metadata": {
    "id": "69d34d07"
   },
   "source": [
    "This app is deployed here in this link https://share.streamlit.io/davidpratap/classification-demo/main/app.py"
   ]
  },
  {
   "cell_type": "markdown",
   "id": "5aa28caf",
   "metadata": {
    "id": "5aa28caf"
   },
   "source": [
    "# END"
   ]
  }
 ],
 "metadata": {
  "colab": {
   "collapsed_sections": [
    "aa111ca8",
    "a3ca5e79",
    "aa993191",
    "9b038cb0",
    "2a29cbd2",
    "ea7a2d54"
   ],
   "name": "Classification.ipynb",
   "provenance": []
  },
  "kernelspec": {
   "display_name": "Python 3 (ipykernel)",
   "language": "python",
   "name": "python3"
  },
  "language_info": {
   "codemirror_mode": {
    "name": "ipython",
    "version": 3
   },
   "file_extension": ".py",
   "mimetype": "text/x-python",
   "name": "python",
   "nbconvert_exporter": "python",
   "pygments_lexer": "ipython3",
   "version": "3.8.13"
  },
  "widgets": {
   "application/vnd.jupyter.widget-state+json": {
    "1fbc0e50b2be430399664de6bf36a8a1": {
     "model_module": "@jupyter-widgets/controls",
     "model_module_version": "1.5.0",
     "model_name": "DescriptionStyleModel",
     "state": {
      "_model_module": "@jupyter-widgets/controls",
      "_model_module_version": "1.5.0",
      "_model_name": "DescriptionStyleModel",
      "_view_count": null,
      "_view_module": "@jupyter-widgets/base",
      "_view_module_version": "1.2.0",
      "_view_name": "StyleView",
      "description_width": ""
     }
    },
    "52231c2138dd49f69ca16dcd329c2fca": {
     "model_module": "@jupyter-widgets/base",
     "model_module_version": "1.2.0",
     "model_name": "LayoutModel",
     "state": {
      "_model_module": "@jupyter-widgets/base",
      "_model_module_version": "1.2.0",
      "_model_name": "LayoutModel",
      "_view_count": null,
      "_view_module": "@jupyter-widgets/base",
      "_view_module_version": "1.2.0",
      "_view_name": "LayoutView",
      "align_content": null,
      "align_items": null,
      "align_self": null,
      "border": null,
      "bottom": null,
      "display": null,
      "flex": null,
      "flex_flow": null,
      "grid_area": null,
      "grid_auto_columns": null,
      "grid_auto_flow": null,
      "grid_auto_rows": null,
      "grid_column": null,
      "grid_gap": null,
      "grid_row": null,
      "grid_template_areas": null,
      "grid_template_columns": null,
      "grid_template_rows": null,
      "height": null,
      "justify_content": null,
      "justify_items": null,
      "left": null,
      "margin": null,
      "max_height": null,
      "max_width": null,
      "min_height": null,
      "min_width": null,
      "object_fit": null,
      "object_position": null,
      "order": null,
      "overflow": null,
      "overflow_x": null,
      "overflow_y": null,
      "padding": null,
      "right": null,
      "top": null,
      "visibility": null,
      "width": null
     }
    },
    "7b11005dfe66423ca51ab529e502b855": {
     "model_module": "@jupyter-widgets/controls",
     "model_module_version": "1.5.0",
     "model_name": "TextModel",
     "state": {
      "_dom_classes": [],
      "_model_module": "@jupyter-widgets/controls",
      "_model_module_version": "1.5.0",
      "_model_name": "TextModel",
      "_view_count": null,
      "_view_module": "@jupyter-widgets/controls",
      "_view_module_version": "1.5.0",
      "_view_name": "TextView",
      "continuous_update": true,
      "description": "",
      "description_tooltip": null,
      "disabled": false,
      "layout": "IPY_MODEL_d86f3615494244139c22d56879690fc2",
      "placeholder": "​",
      "style": "IPY_MODEL_1fbc0e50b2be430399664de6bf36a8a1",
      "value": "Following data types have been inferred automatically, if they are correct press enter to continue or type 'quit' otherwise."
     }
    },
    "939e31abae4b4829bf6b6a407f199e46": {
     "model_module": "@jupyter-widgets/controls",
     "model_module_version": "1.5.0",
     "model_name": "IntProgressModel",
     "state": {
      "_dom_classes": [],
      "_model_module": "@jupyter-widgets/controls",
      "_model_module_version": "1.5.0",
      "_model_name": "IntProgressModel",
      "_view_count": null,
      "_view_module": "@jupyter-widgets/controls",
      "_view_module_version": "1.5.0",
      "_view_name": "ProgressView",
      "bar_style": "",
      "description": "Processing: ",
      "description_tooltip": null,
      "layout": "IPY_MODEL_a55767cb423a4d77804cfcd574a14f7a",
      "max": 3,
      "min": 0,
      "orientation": "horizontal",
      "style": "IPY_MODEL_e99f9230fa094955bf4b78eafaeee73f",
      "value": 3
     }
    },
    "a55767cb423a4d77804cfcd574a14f7a": {
     "model_module": "@jupyter-widgets/base",
     "model_module_version": "1.2.0",
     "model_name": "LayoutModel",
     "state": {
      "_model_module": "@jupyter-widgets/base",
      "_model_module_version": "1.2.0",
      "_model_name": "LayoutModel",
      "_view_count": null,
      "_view_module": "@jupyter-widgets/base",
      "_view_module_version": "1.2.0",
      "_view_name": "LayoutView",
      "align_content": null,
      "align_items": null,
      "align_self": null,
      "border": null,
      "bottom": null,
      "display": null,
      "flex": null,
      "flex_flow": null,
      "grid_area": null,
      "grid_auto_columns": null,
      "grid_auto_flow": null,
      "grid_auto_rows": null,
      "grid_column": null,
      "grid_gap": null,
      "grid_row": null,
      "grid_template_areas": null,
      "grid_template_columns": null,
      "grid_template_rows": null,
      "height": null,
      "justify_content": null,
      "justify_items": null,
      "left": null,
      "margin": null,
      "max_height": null,
      "max_width": null,
      "min_height": null,
      "min_width": null,
      "object_fit": null,
      "object_position": null,
      "order": null,
      "overflow": null,
      "overflow_x": null,
      "overflow_y": null,
      "padding": null,
      "right": null,
      "top": null,
      "visibility": null,
      "width": null
     }
    },
    "ae84f30c1fd04327bcaf9096f92021c3": {
     "model_module": "@jupyter-widgets/controls",
     "model_module_version": "1.5.0",
     "model_name": "ProgressStyleModel",
     "state": {
      "_model_module": "@jupyter-widgets/controls",
      "_model_module_version": "1.5.0",
      "_model_name": "ProgressStyleModel",
      "_view_count": null,
      "_view_module": "@jupyter-widgets/base",
      "_view_module_version": "1.2.0",
      "_view_name": "StyleView",
      "bar_color": null,
      "description_width": ""
     }
    },
    "d86f3615494244139c22d56879690fc2": {
     "model_module": "@jupyter-widgets/base",
     "model_module_version": "1.2.0",
     "model_name": "LayoutModel",
     "state": {
      "_model_module": "@jupyter-widgets/base",
      "_model_module_version": "1.2.0",
      "_model_name": "LayoutModel",
      "_view_count": null,
      "_view_module": "@jupyter-widgets/base",
      "_view_module_version": "1.2.0",
      "_view_name": "LayoutView",
      "align_content": null,
      "align_items": null,
      "align_self": null,
      "border": null,
      "bottom": null,
      "display": null,
      "flex": null,
      "flex_flow": null,
      "grid_area": null,
      "grid_auto_columns": null,
      "grid_auto_flow": null,
      "grid_auto_rows": null,
      "grid_column": null,
      "grid_gap": null,
      "grid_row": null,
      "grid_template_areas": null,
      "grid_template_columns": null,
      "grid_template_rows": null,
      "height": null,
      "justify_content": null,
      "justify_items": null,
      "left": null,
      "margin": null,
      "max_height": null,
      "max_width": null,
      "min_height": null,
      "min_width": null,
      "object_fit": null,
      "object_position": null,
      "order": null,
      "overflow": null,
      "overflow_x": null,
      "overflow_y": null,
      "padding": null,
      "right": null,
      "top": null,
      "visibility": null,
      "width": "100%"
     }
    },
    "e72386316961484c830367c0fc4762d8": {
     "model_module": "@jupyter-widgets/controls",
     "model_module_version": "1.5.0",
     "model_name": "IntProgressModel",
     "state": {
      "_dom_classes": [],
      "_model_module": "@jupyter-widgets/controls",
      "_model_module_version": "1.5.0",
      "_model_name": "IntProgressModel",
      "_view_count": null,
      "_view_module": "@jupyter-widgets/controls",
      "_view_module_version": "1.5.0",
      "_view_name": "ProgressView",
      "bar_style": "",
      "description": "Processing: ",
      "description_tooltip": null,
      "layout": "IPY_MODEL_52231c2138dd49f69ca16dcd329c2fca",
      "max": 74,
      "min": 0,
      "orientation": "horizontal",
      "style": "IPY_MODEL_ae84f30c1fd04327bcaf9096f92021c3",
      "value": 74
     }
    },
    "e99f9230fa094955bf4b78eafaeee73f": {
     "model_module": "@jupyter-widgets/controls",
     "model_module_version": "1.5.0",
     "model_name": "ProgressStyleModel",
     "state": {
      "_model_module": "@jupyter-widgets/controls",
      "_model_module_version": "1.5.0",
      "_model_name": "ProgressStyleModel",
      "_view_count": null,
      "_view_module": "@jupyter-widgets/base",
      "_view_module_version": "1.2.0",
      "_view_name": "StyleView",
      "bar_color": null,
      "description_width": ""
     }
    }
   }
  }
 },
 "nbformat": 4,
 "nbformat_minor": 5
}
